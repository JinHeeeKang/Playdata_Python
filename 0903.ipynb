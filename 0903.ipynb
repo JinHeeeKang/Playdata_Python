{
  "nbformat": 4,
  "nbformat_minor": 0,
  "metadata": {
    "colab": {
      "name": "0903boosting.ipynb",
      "provenance": [],
      "collapsed_sections": [],
      "authorship_tag": "ABX9TyNyBpV8mRDxK9n71pMLyg27",
      "include_colab_link": true
    },
    "kernelspec": {
      "name": "python3",
      "display_name": "Python 3"
    }
  },
  "cells": [
    {
      "cell_type": "markdown",
      "metadata": {
        "id": "view-in-github",
        "colab_type": "text"
      },
      "source": [
        "<a href=\"https://colab.research.google.com/github/JinHeeeKang/Playdata_Python/blob/master/0903.ipynb\" target=\"_parent\"><img src=\"https://colab.research.google.com/assets/colab-badge.svg\" alt=\"Open In Colab\"/></a>"
      ]
    },
    {
      "cell_type": "code",
      "metadata": {
        "id": "F88P61i1XXY2",
        "colab_type": "code",
        "colab": {
          "base_uri": "https://localhost:8080/",
          "height": 35
        },
        "outputId": "75c60879-2164-4ec4-bc14-30f9d4b9361a"
      },
      "source": [
        "from sklearn.model_selection import train_test_split\n",
        "from sklearn.datasets import load_breast_cancer\n",
        "import pandas as pd\n",
        "import numpy as np\n",
        "from sklearn.metrics import accuracy_score\n",
        "import matplotlib.pyplot as plt\n",
        "#!pip install mglearn\n",
        "import mglearn\n",
        "from sklearn.datasets import  load_wine\n",
        "\n",
        "cancer =load_breast_cancer()\n",
        "col_names = cancer.feature_names\n",
        "print(len(col_names))\n",
        "X_Data=pd.DataFrame(cancer.data,columns=col_names)\n",
        "y=pd.DataFrame(cancer.target)\n",
        "\n",
        "X_train,X_test,y_train,y_test =train_test_split(\n",
        "    cancer.data,cancer.target,random_state=0)\n"
      ],
      "execution_count": null,
      "outputs": [
        {
          "output_type": "stream",
          "text": [
            "30\n"
          ],
          "name": "stdout"
        }
      ]
    },
    {
      "cell_type": "code",
      "metadata": {
        "id": "N_QRl9ekqAdY",
        "colab_type": "code",
        "colab": {
          "base_uri": "https://localhost:8080/",
          "height": 73
        },
        "outputId": "43f62332-48a2-471f-b19f-4cde3331632e"
      },
      "source": [
        "#AdaBoosting\n",
        "#잘못 분류된걸 업데이트 하면서\n",
        "from sklearn.ensemble import AdaBoostClassifier\n",
        "ada=AdaBoostClassifier(n_estimators=100,random_state=42)\n",
        "#n_estimators:트리갯수 #100번 결과값을 업데이트 할 것이다\n",
        "X_train = pd.DataFrame(X_train, columns=cancer.feature_names)\n",
        "ada.fit(X_train,y_train)"
      ],
      "execution_count": null,
      "outputs": [
        {
          "output_type": "execute_result",
          "data": {
            "text/plain": [
              "AdaBoostClassifier(algorithm='SAMME.R', base_estimator=None, learning_rate=1.0,\n",
              "                   n_estimators=100, random_state=42)"
            ]
          },
          "metadata": {
            "tags": []
          },
          "execution_count": 5
        }
      ]
    },
    {
      "cell_type": "code",
      "metadata": {
        "id": "EKVv7WDBrL3q",
        "colab_type": "code",
        "colab": {
          "base_uri": "https://localhost:8080/",
          "height": 53
        },
        "outputId": "1b4667d2-4e6f-4d17-854e-11bb29be4385"
      },
      "source": [
        "#fit 하고나면 정확도를 확인해보기\n",
        "print(\"훈련세트 정확도:{:.3f}\".format(ada.score(X_train,y_train)))\n",
        "print(\"테스트 세트 정확도:{:.3f}\".format(ada.score(X_test,y_test)))\n"
      ],
      "execution_count": null,
      "outputs": [
        {
          "output_type": "stream",
          "text": [
            "훈련세트 정확도:1.000\n",
            "테스트 세트 정확도:0.986\n"
          ],
          "name": "stdout"
        }
      ]
    },
    {
      "cell_type": "code",
      "metadata": {
        "id": "MHtUIGb0reDJ",
        "colab_type": "code",
        "colab": {
          "base_uri": "https://localhost:8080/",
          "height": 279
        },
        "outputId": "c05f2a05-09d3-4206-a532-58b86241da2a"
      },
      "source": [
        "#f importance이 높은게 좋은것\n",
        "n_features=cancer.data.shape[1]\n",
        "\n",
        "plt.barh(range(n_features),ada.feature_importances_,align='center')\n",
        "plt.yticks(np.arange(n_features),cancer.feature_names)\n",
        "plt.xlabel(\"f importance\")\n",
        "plt.ylabel(\"f\")\n",
        "plt.ylim(-1,n_features)\n",
        "plt.show()"
      ],
      "execution_count": null,
      "outputs": [
        {
          "output_type": "display_data",
          "data": {
            "image/png": "[encoded data removed]",
            "text/plain": [
              "<Figure size 432x288 with 1 Axes>"
            ]
          },
          "metadata": {
            "tags": [],
            "needs_background": "light"
          }
        }
      ]
    },
    {
      "cell_type": "code",
      "metadata": {
        "id": "RrpO_gYCssqt",
        "colab_type": "code",
        "colab": {
          "base_uri": "https://localhost:8080/",
          "height": 53
        },
        "outputId": "867436f9-1832-4a46-c9bb-066b3b93b104"
      },
      "source": [
        "#Gradient Boosting\n",
        "from sklearn.ensemble import GradientBoostingClassifier\n",
        "gbrt=GradientBoostingClassifier(random_state=0)#defalt depth =3\n",
        "X_train = pd.DataFrame(X_train, columns=cancer.feature_names)\n",
        "gbrt.fit(X_train,y_train)\n",
        "\n",
        "print(\"훈련세트 정확도:{:.3f}\".format(ada.score(X_train,y_train)))\n",
        "print(\"테스트 세트 정확도:{:.3f}\".format(ada.score(X_test,y_test)))"
      ],
      "execution_count": null,
      "outputs": [
        {
          "output_type": "stream",
          "text": [
            "훈련세트 정확도:1.000\n",
            "테스트 세트 정확도:0.986\n"
          ],
          "name": "stdout"
        }
      ]
    },
    {
      "cell_type": "code",
      "metadata": {
        "id": "lpCPQpE00UaZ",
        "colab_type": "code",
        "colab": {
          "base_uri": "https://localhost:8080/",
          "height": 53
        },
        "outputId": "33cb3ae5-73c9-4281-d3b7-3938cf9c9030"
      },
      "source": [
        "gbrt=GradientBoostingClassifier(random_state=0,max_depth=2)\n",
        "gbrt.fit(X_train,y_train)\n",
        "\n",
        "print(\"훈련세트 정확도:{:.3f}\".format(ada.score(X_train,y_train)))\n",
        "print(\"테스트 세트 정확도:{:.3f}\".format(ada.score(X_test,y_test)))"
      ],
      "execution_count": null,
      "outputs": [
        {
          "output_type": "stream",
          "text": [
            "훈련세트 정확도:1.000\n",
            "테스트 세트 정확도:0.986\n"
          ],
          "name": "stdout"
        }
      ]
    },
    {
      "cell_type": "code",
      "metadata": {
        "id": "eCigFyVc0i_I",
        "colab_type": "code",
        "colab": {
          "base_uri": "https://localhost:8080/",
          "height": 53
        },
        "outputId": "be85e539-19cc-4eac-fce9-ab6d4bb245bb"
      },
      "source": [
        "gbrt=GradientBoostingClassifier(random_state=0,max_depth=1)\n",
        "gbrt.fit(X_train,y_train)\n",
        "\n",
        "print(\"훈련세트 정확도:{:.3f}\".format(ada.score(X_train,y_train)))\n",
        "print(\"테스트 세트 정확도:{:.3f}\".format(ada.score(X_test,y_test)))"
      ],
      "execution_count": null,
      "outputs": [
        {
          "output_type": "stream",
          "text": [
            "훈련세트 정확도:1.000\n",
            "테스트 세트 정확도:0.986\n"
          ],
          "name": "stdout"
        }
      ]
    },
    {
      "cell_type": "code",
      "metadata": {
        "id": "4K0Z-UUP0tNt",
        "colab_type": "code",
        "colab": {
          "base_uri": "https://localhost:8080/",
          "height": 53
        },
        "outputId": "6365d983-d6c3-4b1c-ed1f-8de40442e06d"
      },
      "source": [
        "gbrt=GradientBoostingClassifier(random_state=0,learning_rate=0.01)\n",
        "gbrt.fit(X_train,y_train)\n",
        "\n",
        "print(\"훈련세트 정확도:{:.3f}\".format(ada.score(X_train,y_train)))\n",
        "print(\"테스트 세트 정확도:{:.3f}\".format(ada.score(X_test,y_test)))"
      ],
      "execution_count": null,
      "outputs": [
        {
          "output_type": "stream",
          "text": [
            "훈련세트 정확도:1.000\n",
            "테스트 세트 정확도:0.986\n"
          ],
          "name": "stdout"
        }
      ]
    },
    {
      "cell_type": "code",
      "metadata": {
        "id": "_Ukd4dO301jz",
        "colab_type": "code",
        "colab": {
          "base_uri": "https://localhost:8080/",
          "height": 395
        },
        "outputId": "a0271980-85db-4208-f03d-32ac820f3ba8"
      },
      "source": [
        "lr_list=[0.05,0.075,0.1,0.25,0.5,0.75,1]#1은 잘 안씀\n",
        "\n",
        "for learning_rate in lr_list:\n",
        "    gb_clf=GradientBoostingClassifier(n_estimators=50,\n",
        "                                      learning_rate=learning_rate,\n",
        "                                      max_depth=2,random_state=0)\n",
        "    gb_clf.fit(X_train,y_train)\n",
        "\n",
        "    print(\"Learning rate:\",learning_rate)\n",
        "    print(\"Accuracy score(training): {0:.3f}\".format(gb_clf.score(X_train,y_train)))\n",
        "    print(\"Accuracy score(validation): {0:.3f}\".format(gb_clf.score(X_test,y_test)))\n"
      ],
      "execution_count": null,
      "outputs": [
        {
          "output_type": "stream",
          "text": [
            "Learning rate: 0.05\n",
            "Accuracy score(training): 0.984\n",
            "Accuracy score(validation): 0.958\n",
            "Learning rate: 0.075\n",
            "Accuracy score(training): 0.993\n",
            "Accuracy score(validation): 0.958\n",
            "Learning rate: 0.1\n",
            "Accuracy score(training): 0.995\n",
            "Accuracy score(validation): 0.958\n",
            "Learning rate: 0.25\n",
            "Accuracy score(training): 1.000\n",
            "Accuracy score(validation): 0.979\n",
            "Learning rate: 0.5\n",
            "Accuracy score(training): 1.000\n",
            "Accuracy score(validation): 0.972\n",
            "Learning rate: 0.75\n",
            "Accuracy score(training): 1.000\n",
            "Accuracy score(validation): 0.965\n",
            "Learning rate: 1\n",
            "Accuracy score(training): 1.000\n",
            "Accuracy score(validation): 0.944\n"
          ],
          "name": "stdout"
        }
      ]
    },
    {
      "cell_type": "code",
      "metadata": {
        "id": "KKdbOJPO2O0p",
        "colab_type": "code",
        "colab": {
          "base_uri": "https://localhost:8080/",
          "height": 197
        },
        "outputId": "df68957f-2cb2-45ac-acb0-5d64209dafca"
      },
      "source": [
        "from sklearn.metrics import classification_report\n",
        "gb_clf2=GradientBoostingClassifier(n_estimators=50,\n",
        "                                      learning_rate=0.25,\n",
        "                                      max_depth=2,random_state=0)\n",
        "X_train = pd.DataFrame(X_train, columns=cancer.feature_names)\n",
        "gb_clf2.fit(X_train,y_train)\n",
        "predictions=gb_clf2.predict(X_test)\n",
        "#전체를 판단할때는 avg값으로 하는게 좋음\n",
        "print(\"Classification Report\")\n",
        "print(classification_report(y_test,predictions))"
      ],
      "execution_count": null,
      "outputs": [
        {
          "output_type": "stream",
          "text": [
            "Classification Report\n",
            "              precision    recall  f1-score   support\n",
            "\n",
            "           0       0.98      0.96      0.97        53\n",
            "           1       0.98      0.99      0.98        90\n",
            "\n",
            "    accuracy                           0.98       143\n",
            "   macro avg       0.98      0.98      0.98       143\n",
            "weighted avg       0.98      0.98      0.98       143\n",
            "\n"
          ],
          "name": "stdout"
        }
      ]
    },
    {
      "cell_type": "code",
      "metadata": {
        "id": "Hcn7wAjq4Hqr",
        "colab_type": "code",
        "colab": {
          "base_uri": "https://localhost:8080/",
          "height": 279
        },
        "outputId": "bc366f3a-19f5-4094-f2b6-25f28d1b84c4"
      },
      "source": [
        "n_features=cancer.data.shape[1]\n",
        "#이름 매치XX - 이따 돌려보기\n",
        "plt.barh(range(n_features),gb_clf2.feature_importances_,align='center')\n",
        "plt.yticks(np.arange(n_features),cancer.feature_names)\n",
        "plt.xlabel(\"f importance\")\n",
        "plt.ylabel(\"f\")\n",
        "plt.ylim(-1,n_features)\n",
        "plt.show()"
      ],
      "execution_count": null,
      "outputs": [
        {
          "output_type": "display_data",
          "data": {
            "image/png": "[encoded data removed]",
            "text/plain": [
              "<Figure size 432x288 with 1 Axes>"
            ]
          },
          "metadata": {
            "tags": [],
            "needs_background": "light"
          }
        }
      ]
    },
    {
      "cell_type": "code",
      "metadata": {
        "id": "3GPoOK2N6BWp",
        "colab_type": "code",
        "colab": {
          "base_uri": "https://localhost:8080/",
          "height": 35
        },
        "outputId": "bfd901c7-f1ff-4622-856c-28207f300c31"
      },
      "source": [
        "wine =load_wine()\n",
        "col_names = wine.feature_names\n",
        "print(len(col_names))\n",
        "X_Data=pd.DataFrame(wine.data,columns=col_names)\n",
        "y=pd.DataFrame(wine.target)\n",
        "\n",
        "X_train,X_test,y_train,y_test =train_test_split(\n",
        "    wine.data,wine.target,test_size=0.3,random_state=0)\n"
      ],
      "execution_count": null,
      "outputs": [
        {
          "output_type": "stream",
          "text": [
            "13\n"
          ],
          "name": "stdout"
        }
      ]
    },
    {
      "cell_type": "code",
      "metadata": {
        "id": "oX-gl-IE6dIO",
        "colab_type": "code",
        "colab": {}
      },
      "source": [
        "\n",
        "from sklearn.ensemble import AdaBoostClassifier\n",
        "ada=AdaBoostClassifier(n_estimators=100,random_state=42)\n",
        "\n",
        "ada.fit(X_train,y_train)\n"
      ],
      "execution_count": null,
      "outputs": []
    },
    {
      "cell_type": "code",
      "metadata": {
        "id": "sPfTfEzM9dh0",
        "colab_type": "code",
        "colab": {}
      },
      "source": [
        "#이어서 계속치기"
      ],
      "execution_count": null,
      "outputs": []
    },
    {
      "cell_type": "code",
      "metadata": {
        "id": "KYSa60WC6pMY",
        "colab_type": "code",
        "colab": {}
      },
      "source": [
        ""
      ],
      "execution_count": null,
      "outputs": []
    },
    {
      "cell_type": "code",
      "metadata": {
        "id": "h9wmYvzJ9a7M",
        "colab_type": "code",
        "colab": {}
      },
      "source": [
        "#xgboost\n",
        "from xgboost import plot_importance\n",
        "from xgboost import XGBClassifier\n",
        "import xgboost as xgb"
      ],
      "execution_count": null,
      "outputs": []
    },
    {
      "cell_type": "code",
      "metadata": {
        "id": "1fcW_LlI_h9V",
        "colab_type": "code",
        "colab": {}
      },
      "source": [
        "clf=XGBClassifier()"
      ],
      "execution_count": null,
      "outputs": []
    },
    {
      "cell_type": "code",
      "metadata": {
        "id": "Wf5Po4yycang",
        "colab_type": "code",
        "colab": {
          "base_uri": "https://localhost:8080/",
          "height": 35
        },
        "outputId": "4ce33ff6-d9ce-4d64-d200-c4e8efa66fa3"
      },
      "source": [
        "from sklearn.model_selection import train_test_split\n",
        "from sklearn.datasets import load_breast_cancer\n",
        "import pandas as pd\n",
        "import numpy as np\n",
        "from sklearn.metrics import accuracy_score\n",
        "import matplotlib.pyplot as plt\n",
        "\n",
        "cancer =load_breast_cancer()\n",
        "col_names = cancer.feature_names\n",
        "print(len(col_names))\n",
        "X_Data=pd.DataFrame(cancer.data,columns=col_names)\n",
        "y=pd.DataFrame(cancer.target)\n",
        "\n",
        "X_train,X_test,y_train,y_test =train_test_split(\n",
        "    cancer.data,cancer.target,random_state=0)\n"
      ],
      "execution_count": null,
      "outputs": [
        {
          "output_type": "stream",
          "text": [
            "30\n"
          ],
          "name": "stdout"
        }
      ]
    },
    {
      "cell_type": "code",
      "metadata": {
        "id": "CdXMCmx4cuwV",
        "colab_type": "code",
        "colab": {
          "base_uri": "https://localhost:8080/",
          "height": 53
        },
        "outputId": "e8a401ff-4675-4ca2-dcc2-0f8fbbec01b3"
      },
      "source": [
        "xgbb=XGBClassifier(n_estimators=500,learning_rate=0.01,\n",
        "                    max_depth=5,random_state=0)\n",
        "xgbb.fit(X_train,y_train)\n",
        "\n",
        "print(\"훈련세트 정확도:{:.3f}\".format(xgbb.score(X_train,y_train)))\n",
        "print(\"테스트 세트 정확도:{:.3f}\".format(xgbb.score(X_test,y_test)))"
      ],
      "execution_count": null,
      "outputs": [
        {
          "output_type": "stream",
          "text": [
            "훈련세트 정확도:1.000\n",
            "테스트 세트 정확도:0.986\n"
          ],
          "name": "stdout"
        }
      ]
    },
    {
      "cell_type": "code",
      "metadata": {
        "id": "Yo5NTK0jdqBD",
        "colab_type": "code",
        "colab": {}
      },
      "source": [
        "#이거 XXXX\n",
        "plot_importance(xgbb)\n",
        "plt.yticks(range(len(col_names)),col_names)\n",
        "plt.show()"
      ],
      "execution_count": null,
      "outputs": []
    },
    {
      "cell_type": "code",
      "metadata": {
        "id": "kni8MnAUeTGQ",
        "colab_type": "code",
        "colab": {
          "base_uri": "https://localhost:8080/",
          "height": 1000
        },
        "outputId": "372f0e45-b2e0-4e23-bd0b-6e4ce9239db1"
      },
      "source": [
        "import matplotlib.pyplot as plt\n",
        "\n",
        "feature_imp =pd.Series(xgbb.feature_importances_, index=cancer.feature_names).sort_values(ascending=True)\n",
        "feature_imp\n",
        "print(feature_imp)\n",
        "print(feature_imp.index)\n",
        "\n",
        "plot_importance(xgbb).set_yticklabels(feature_imp.index)\n",
        "plt.show()"
      ],
      "execution_count": null,
      "outputs": [
        {
          "output_type": "stream",
          "text": [
            "mean perimeter             0.000000\n",
            "mean fractal dimension     0.001348\n",
            "mean compactness           0.003409\n",
            "worst fractal dimension    0.004356\n",
            "mean concavity             0.004462\n",
            "worst compactness          0.004719\n",
            "worst symmetry             0.005157\n",
            "smoothness error           0.005919\n",
            "mean radius                0.006442\n",
            "concave points error       0.006886\n",
            "symmetry error             0.007753\n",
            "worst smoothness           0.007974\n",
            "texture error              0.008438\n",
            "compactness error          0.009900\n",
            "concavity error            0.010351\n",
            "mean smoothness            0.011029\n",
            "area error                 0.011221\n",
            "mean symmetry              0.012301\n",
            "mean area                  0.014500\n",
            "perimeter error            0.014916\n",
            "fractal dimension error    0.015012\n",
            "radius error               0.019017\n",
            "worst texture              0.021520\n",
            "mean texture               0.021834\n",
            "worst concavity            0.024431\n",
            "worst radius               0.036750\n",
            "worst area                 0.037053\n",
            "worst concave points       0.117635\n",
            "worst perimeter            0.188068\n",
            "mean concave points        0.367598\n",
            "dtype: float32\n",
            "Index(['mean perimeter', 'mean fractal dimension', 'mean compactness',\n",
            "       'worst fractal dimension', 'mean concavity', 'worst compactness',\n",
            "       'worst symmetry', 'smoothness error', 'mean radius',\n",
            "       'concave points error', 'symmetry error', 'worst smoothness',\n",
            "       'texture error', 'compactness error', 'concavity error',\n",
            "       'mean smoothness', 'area error', 'mean symmetry', 'mean area',\n",
            "       'perimeter error', 'fractal dimension error', 'radius error',\n",
            "       'worst texture', 'mean texture', 'worst concavity', 'worst radius',\n",
            "       'worst area', 'worst concave points', 'worst perimeter',\n",
            "       'mean concave points'],\n",
            "      dtype='object')\n"
          ],
          "name": "stdout"
        },
        {
          "output_type": "display_data",
          "data": {
            "image/png": "[encoded data removed]",
            "text/plain": [
              "<Figure size 432x288 with 1 Axes>"
            ]
          },
          "metadata": {
            "tags": [],
            "needs_background": "light"
          }
        }
      ]
    },
    {
      "cell_type": "code",
      "metadata": {
        "id": "dQx-2uxEnn04",
        "colab_type": "code",
        "colab": {}
      },
      "source": [
        "#xgBoosting\n",
        "xg=XGBClassifier(random_state=0)\n",
        "param_grid={\n",
        "    'max_depth':[4,6,8,10,12],\n",
        "    'n_estimators':[50,100],\n",
        "    'learning_rate':[0.01,0.05,0.1,0.15]}"
      ],
      "execution_count": null,
      "outputs": []
    },
    {
      "cell_type": "code",
      "metadata": {
        "id": "PnRnbjw6nsup",
        "colab_type": "code",
        "colab": {}
      },
      "source": [
        "from sklearn.model_selection import GridSearchCV"
      ],
      "execution_count": null,
      "outputs": []
    },
    {
      "cell_type": "code",
      "metadata": {
        "id": "A4j2SUe4nssm",
        "colab_type": "code",
        "colab": {
          "base_uri": "https://localhost:8080/",
          "height": 343
        },
        "outputId": "612fb5e4-5044-47f0-91e2-1c31f5d57417"
      },
      "source": [
        "gcv=GridSearchCV(xg,param_grid=param_grid,cv=5,scoring='accuracy',n_jobs=1)\n",
        "gcv.fit(X_train,y_train)"
      ],
      "execution_count": null,
      "outputs": [
        {
          "output_type": "execute_result",
          "data": {
            "text/plain": [
              "GridSearchCV(cv=5, error_score=nan,\n",
              "             estimator=XGBClassifier(base_score=0.5, booster='gbtree',\n",
              "                                     colsample_bylevel=1, colsample_bynode=1,\n",
              "                                     colsample_bytree=1, gamma=0,\n",
              "                                     learning_rate=0.1, max_delta_step=0,\n",
              "                                     max_depth=3, min_child_weight=1,\n",
              "                                     missing=None, n_estimators=100, n_jobs=1,\n",
              "                                     nthread=None, objective='binary:logistic',\n",
              "                                     random_state=0, reg_alpha=0, reg_lambda=1,\n",
              "                                     scale_pos_weight=1, seed=None, silent=None,\n",
              "                                     subsample=1, verbosity=1),\n",
              "             iid='deprecated', n_jobs=1,\n",
              "             param_grid={'learning_rate': [0.01, 0.05, 0.1, 0.15],\n",
              "                         'max_depth': [4, 6, 8, 10, 12],\n",
              "                         'n_estimators': [50, 100]},\n",
              "             pre_dispatch='2*n_jobs', refit=True, return_train_score=False,\n",
              "             scoring='accuracy', verbose=0)"
            ]
          },
          "metadata": {
            "tags": []
          },
          "execution_count": 51
        }
      ]
    },
    {
      "cell_type": "code",
      "metadata": {
        "id": "XyvlEdBGnsrX",
        "colab_type": "code",
        "colab": {
          "base_uri": "https://localhost:8080/",
          "height": 53
        },
        "outputId": "6a69be54-7f3b-4ddd-8ad9-17c1cec4c496"
      },
      "source": [
        "print('final parans',gcv.best_params_)\n",
        "print('best score',gcv.best_score_)"
      ],
      "execution_count": null,
      "outputs": [
        {
          "output_type": "stream",
          "text": [
            "final parans {'learning_rate': 0.01, 'max_depth': 4, 'n_estimators': 50}\n",
            "best score 0.9436666666666665\n"
          ],
          "name": "stdout"
        }
      ]
    },
    {
      "cell_type": "code",
      "metadata": {
        "id": "bFYbJDHpnsp1",
        "colab_type": "code",
        "colab": {
          "base_uri": "https://localhost:8080/",
          "height": 35
        },
        "outputId": "6974178e-af32-4d50-f5a1-ff515a15ef63"
      },
      "source": [
        "#wine데이터로 xgboosting\n",
        "from sklearn.datasets import  load_wine\n",
        "\n",
        "wine =load_wine()\n",
        "col_names = wine.feature_names\n",
        "print(len(col_names))\n",
        "X_Data=pd.DataFrame(wine.data,columns=col_names)\n",
        "y=pd.DataFrame(wine.target)\n",
        "\n",
        "X_train,X_test,y_train,y_test =train_test_split(\n",
        "    wine.data,wine.target,test_size=0.3,random_state=0)\n"
      ],
      "execution_count": null,
      "outputs": [
        {
          "output_type": "stream",
          "text": [
            "13\n"
          ],
          "name": "stdout"
        }
      ]
    },
    {
      "cell_type": "code",
      "metadata": {
        "id": "Hr2oLF9RnsnG",
        "colab_type": "code",
        "colab": {
          "base_uri": "https://localhost:8080/",
          "height": 163
        },
        "outputId": "54fc38a1-d0ea-496e-a4f4-9376b5d50932"
      },
      "source": [
        "xgb_wine=XGBClassifier(n_estimators=400,learning_rate=0.1,max_depth=3,objective='multi:softmax',random_state=42)\n",
        "xgb_wine.fit(X_train,y_train)"
      ],
      "execution_count": null,
      "outputs": [
        {
          "output_type": "execute_result",
          "data": {
            "text/plain": [
              "XGBClassifier(base_score=0.5, booster='gbtree', colsample_bylevel=1,\n",
              "              colsample_bynode=1, colsample_bytree=1, gamma=0,\n",
              "              learning_rate=0.1, max_delta_step=0, max_depth=3,\n",
              "              min_child_weight=1, missing=None, n_estimators=400, n_jobs=1,\n",
              "              nthread=None, objective='multi:softprob', random_state=42,\n",
              "              reg_alpha=0, reg_lambda=1, scale_pos_weight=1, seed=None,\n",
              "              silent=None, subsample=1, verbosity=1)"
            ]
          },
          "metadata": {
            "tags": []
          },
          "execution_count": 58
        }
      ]
    },
    {
      "cell_type": "code",
      "metadata": {
        "id": "qZeBPZ2Cnsk9",
        "colab_type": "code",
        "colab": {}
      },
      "source": [
        "print(\"훈련세트 정확도:{:.3f}\".format(xgb_wine.score(X_train,y_train)))\n",
        "print(\"테스트 세트 정확도:{:.3f}\".format(xgb_wine.score(X_test,y_test)))"
      ],
      "execution_count": null,
      "outputs": []
    },
    {
      "cell_type": "code",
      "metadata": {
        "id": "P0wvKf0ansiL",
        "colab_type": "code",
        "colab": {}
      },
      "source": [
        "#xgBoosting\n",
        "xg=XGBClassifier(random_state=0)\n",
        "param_grid={\n",
        "    'max_depth':[4,6,8,10,12],\n",
        "    'n_estimators':[50,100],\n",
        "    'learning_rate':[0.01,0.05,0.1,0.15]}"
      ],
      "execution_count": null,
      "outputs": []
    },
    {
      "cell_type": "code",
      "metadata": {
        "id": "8AznTmsztqTF",
        "colab_type": "code",
        "colab": {}
      },
      "source": [
        ""
      ],
      "execution_count": null,
      "outputs": []
    },
    {
      "cell_type": "code",
      "metadata": {
        "id": "zmwduE34tqQ0",
        "colab_type": "code",
        "colab": {
          "base_uri": "https://localhost:8080/",
          "height": 323
        },
        "outputId": "f05d0265-1f02-4dde-ccf8-73ccec1d1fe7"
      },
      "source": [
        "xgbbb =XGBClassifier()\n",
        "param_grid={\n",
        "    'max_depth':[4,6,8,10,12],\n",
        "    'n_estimators':[50,100],\n",
        "    'learning_rate':[0.01,0.05,0.1,0.15]}\n",
        "gcv=GridSearchCV(xgbbb,param_grid=param_grid,cv=5,scoring='accuracy',n_jobs=1)\n",
        "gcv.fit(X_train,y_train)"
      ],
      "execution_count": null,
      "outputs": [
        {
          "output_type": "execute_result",
          "data": {
            "text/plain": [
              "GridSearchCV(cv=5, error_score=nan,\n",
              "             estimator=XGBClassifier(base_score=0.5, booster='gbtree',\n",
              "                                     colsample_bylevel=1, colsample_bynode=1,\n",
              "                                     colsample_bytree=1, gamma=0,\n",
              "                                     learning_rate=0.1, max_delta_step=0,\n",
              "                                     max_depth=3, min_child_weight=1,\n",
              "                                     missing=None, n_estimators=100, n_jobs=1,\n",
              "                                     nthread=None, objective='binary:logistic',\n",
              "                                     random_state=0, reg_alpha=0, reg_lambda=1,\n",
              "                                     scale_pos_weight=1, seed=None, silent=None,\n",
              "                                     subsample=1, verbosity=1),\n",
              "             iid='deprecated', n_jobs=1,\n",
              "             param_grid={'learning_rate': [0.01, 0.05, 0.1, 0.15],\n",
              "                         'max_depth': [4, 6, 8, 10, 12],\n",
              "                         'n_estimators': [50, 100]},\n",
              "             pre_dispatch='2*n_jobs', refit=True, return_train_score=False,\n",
              "             scoring='accuracy', verbose=0)"
            ]
          },
          "metadata": {
            "tags": []
          },
          "execution_count": 62
        }
      ]
    },
    {
      "cell_type": "code",
      "metadata": {
        "id": "zlvm7Qj6tqPe",
        "colab_type": "code",
        "colab": {
          "base_uri": "https://localhost:8080/",
          "height": 53
        },
        "outputId": "5e823660-f526-4332-fd7d-9f2562a8d78d"
      },
      "source": [
        "print('final parans',gcv.best_params_)\n",
        "print('best score',gcv.best_score_)"
      ],
      "execution_count": null,
      "outputs": [
        {
          "output_type": "stream",
          "text": [
            "final parans {'learning_rate': 0.01, 'max_depth': 4, 'n_estimators': 50}\n",
            "best score 0.9436666666666665\n"
          ],
          "name": "stdout"
        }
      ]
    },
    {
      "cell_type": "code",
      "metadata": {
        "id": "V-9r0HTywLeX",
        "colab_type": "code",
        "colab": {}
      },
      "source": [
        "from sklearn.metrics import confusion_matrix, accuracy_score, precision_score, recall_score\n",
        "from sklearn.metrics import confusion_matrix, f1_score, roc_auc_score"
      ],
      "execution_count": null,
      "outputs": []
    },
    {
      "cell_type": "code",
      "metadata": {
        "id": "bRYB9q3btqLy",
        "colab_type": "code",
        "colab": {}
      },
      "source": [
        "def get_eval(y_test,y_pred):\n",
        "    accuracy=accuracy_score(y_test,y_pred)\n",
        "    precision=precision_score(y_test,y_pred,average='macro')\n",
        "    recall=recall_score(y_test,y_pred,average='macro')\n",
        "    f_scro=f1_score(y_test,y_pred,average='macro')\n",
        "    print('정확도:{:.4f}'.format(accuracy))\n",
        "    print('정밀도:{:.4f}'.format(precision))\n",
        "    print('재현율:{:.4f}'.format(recall))\n",
        "    print('f_score:{:.4f}'.format(f_scro))\n"
      ],
      "execution_count": null,
      "outputs": []
    },
    {
      "cell_type": "code",
      "metadata": {
        "id": "ktooajp9tqJn",
        "colab_type": "code",
        "colab": {
          "base_uri": "https://localhost:8080/",
          "height": 1000
        },
        "outputId": "c5de3ecf-0c18-4463-9365-010ca5243bed"
      },
      "source": [
        "#400번 돌리는 코드를 짰는데 280번째에 최적이라 그때 멈추고, 그때 제일 좋은 estimators값을 알려줌 -180\n",
        "xgb_wine=XGBClassifier(n_estimators=400,learning_rate=0.1,max_depth=3,objective='multi:softmax',random_state=42)\n",
        "xgb_wine.fit(X_train,y_train,early_stopping_rounds=100,eval_metric=\"mlogloss\",eval_set=[(X_test,y_test)],verbose=True)\n",
        "ws100_preds=xgb_wine.predict(X_test)\n",
        "get_eval(y_test,ws100_preds)"
      ],
      "execution_count": null,
      "outputs": [
        {
          "output_type": "stream",
          "text": [
            "[0]\tvalidation_0-mlogloss:0.97868\n",
            "Will train until validation_0-mlogloss hasn't improved in 100 rounds.\n",
            "[1]\tvalidation_0-mlogloss:0.884696\n",
            "[2]\tvalidation_0-mlogloss:0.803847\n",
            "[3]\tvalidation_0-mlogloss:0.729879\n",
            "[4]\tvalidation_0-mlogloss:0.66679\n",
            "[5]\tvalidation_0-mlogloss:0.613629\n",
            "[6]\tvalidation_0-mlogloss:0.565266\n",
            "[7]\tvalidation_0-mlogloss:0.521635\n",
            "[8]\tvalidation_0-mlogloss:0.481281\n",
            "[9]\tvalidation_0-mlogloss:0.446401\n",
            "[10]\tvalidation_0-mlogloss:0.415522\n",
            "[11]\tvalidation_0-mlogloss:0.387958\n",
            "[12]\tvalidation_0-mlogloss:0.364007\n",
            "[13]\tvalidation_0-mlogloss:0.342541\n",
            "[14]\tvalidation_0-mlogloss:0.322741\n",
            "[15]\tvalidation_0-mlogloss:0.305223\n",
            "[16]\tvalidation_0-mlogloss:0.289273\n",
            "[17]\tvalidation_0-mlogloss:0.275719\n",
            "[18]\tvalidation_0-mlogloss:0.26347\n",
            "[19]\tvalidation_0-mlogloss:0.250706\n",
            "[20]\tvalidation_0-mlogloss:0.240992\n",
            "[21]\tvalidation_0-mlogloss:0.231796\n",
            "[22]\tvalidation_0-mlogloss:0.224526\n",
            "[23]\tvalidation_0-mlogloss:0.21675\n",
            "[24]\tvalidation_0-mlogloss:0.209522\n",
            "[25]\tvalidation_0-mlogloss:0.202891\n",
            "[26]\tvalidation_0-mlogloss:0.197344\n",
            "[27]\tvalidation_0-mlogloss:0.191889\n",
            "[28]\tvalidation_0-mlogloss:0.18792\n",
            "[29]\tvalidation_0-mlogloss:0.183272\n",
            "[30]\tvalidation_0-mlogloss:0.179343\n",
            "[31]\tvalidation_0-mlogloss:0.176826\n",
            "[32]\tvalidation_0-mlogloss:0.172599\n",
            "[33]\tvalidation_0-mlogloss:0.170408\n",
            "[34]\tvalidation_0-mlogloss:0.167253\n",
            "[35]\tvalidation_0-mlogloss:0.165294\n",
            "[36]\tvalidation_0-mlogloss:0.163184\n",
            "[37]\tvalidation_0-mlogloss:0.161021\n",
            "[38]\tvalidation_0-mlogloss:0.156969\n",
            "[39]\tvalidation_0-mlogloss:0.155035\n",
            "[40]\tvalidation_0-mlogloss:0.153094\n",
            "[41]\tvalidation_0-mlogloss:0.151015\n",
            "[42]\tvalidation_0-mlogloss:0.147956\n",
            "[43]\tvalidation_0-mlogloss:0.146605\n",
            "[44]\tvalidation_0-mlogloss:0.144108\n",
            "[45]\tvalidation_0-mlogloss:0.142652\n",
            "[46]\tvalidation_0-mlogloss:0.141135\n",
            "[47]\tvalidation_0-mlogloss:0.138708\n",
            "[48]\tvalidation_0-mlogloss:0.136953\n",
            "[49]\tvalidation_0-mlogloss:0.136175\n",
            "[50]\tvalidation_0-mlogloss:0.135011\n",
            "[51]\tvalidation_0-mlogloss:0.133884\n",
            "[52]\tvalidation_0-mlogloss:0.131751\n",
            "[53]\tvalidation_0-mlogloss:0.131685\n",
            "[54]\tvalidation_0-mlogloss:0.12977\n",
            "[55]\tvalidation_0-mlogloss:0.129416\n",
            "[56]\tvalidation_0-mlogloss:0.129524\n",
            "[57]\tvalidation_0-mlogloss:0.129185\n",
            "[58]\tvalidation_0-mlogloss:0.128125\n",
            "[59]\tvalidation_0-mlogloss:0.127148\n",
            "[60]\tvalidation_0-mlogloss:0.127012\n",
            "[61]\tvalidation_0-mlogloss:0.126143\n",
            "[62]\tvalidation_0-mlogloss:0.124712\n",
            "[63]\tvalidation_0-mlogloss:0.125248\n",
            "[64]\tvalidation_0-mlogloss:0.124575\n",
            "[65]\tvalidation_0-mlogloss:0.124637\n",
            "[66]\tvalidation_0-mlogloss:0.124007\n",
            "[67]\tvalidation_0-mlogloss:0.123411\n",
            "[68]\tvalidation_0-mlogloss:0.122836\n",
            "[69]\tvalidation_0-mlogloss:0.122263\n",
            "[70]\tvalidation_0-mlogloss:0.121745\n",
            "[71]\tvalidation_0-mlogloss:0.121723\n",
            "[72]\tvalidation_0-mlogloss:0.121707\n",
            "[73]\tvalidation_0-mlogloss:0.120493\n",
            "[74]\tvalidation_0-mlogloss:0.12092\n",
            "[75]\tvalidation_0-mlogloss:0.121347\n",
            "[76]\tvalidation_0-mlogloss:0.121359\n",
            "[77]\tvalidation_0-mlogloss:0.121417\n",
            "[78]\tvalidation_0-mlogloss:0.121448\n",
            "[79]\tvalidation_0-mlogloss:0.120412\n",
            "[80]\tvalidation_0-mlogloss:0.12045\n",
            "[81]\tvalidation_0-mlogloss:0.120878\n",
            "[82]\tvalidation_0-mlogloss:0.121224\n",
            "[83]\tvalidation_0-mlogloss:0.12059\n",
            "[84]\tvalidation_0-mlogloss:0.120873\n",
            "[85]\tvalidation_0-mlogloss:0.120266\n",
            "[86]\tvalidation_0-mlogloss:0.12055\n",
            "[87]\tvalidation_0-mlogloss:0.119967\n",
            "[88]\tvalidation_0-mlogloss:0.120277\n",
            "[89]\tvalidation_0-mlogloss:0.119719\n",
            "[90]\tvalidation_0-mlogloss:0.120027\n",
            "[91]\tvalidation_0-mlogloss:0.12033\n",
            "[92]\tvalidation_0-mlogloss:0.1198\n",
            "[93]\tvalidation_0-mlogloss:0.1201\n",
            "[94]\tvalidation_0-mlogloss:0.119591\n",
            "[95]\tvalidation_0-mlogloss:0.119332\n",
            "[96]\tvalidation_0-mlogloss:0.11963\n",
            "[97]\tvalidation_0-mlogloss:0.119146\n",
            "[98]\tvalidation_0-mlogloss:0.118624\n",
            "[99]\tvalidation_0-mlogloss:0.118926\n",
            "[100]\tvalidation_0-mlogloss:0.118688\n",
            "[101]\tvalidation_0-mlogloss:0.118181\n",
            "[102]\tvalidation_0-mlogloss:0.118484\n",
            "[103]\tvalidation_0-mlogloss:0.11799\n",
            "[104]\tvalidation_0-mlogloss:0.11777\n",
            "[105]\tvalidation_0-mlogloss:0.118072\n",
            "[106]\tvalidation_0-mlogloss:0.117592\n",
            "[107]\tvalidation_0-mlogloss:0.117384\n",
            "[108]\tvalidation_0-mlogloss:0.117684\n",
            "[109]\tvalidation_0-mlogloss:0.117216\n",
            "[110]\tvalidation_0-mlogloss:0.116802\n",
            "[111]\tvalidation_0-mlogloss:0.116608\n",
            "[112]\tvalidation_0-mlogloss:0.116211\n",
            "[113]\tvalidation_0-mlogloss:0.116026\n",
            "[114]\tvalidation_0-mlogloss:0.115644\n",
            "[115]\tvalidation_0-mlogloss:0.115468\n",
            "[116]\tvalidation_0-mlogloss:0.115059\n",
            "[117]\tvalidation_0-mlogloss:0.114889\n",
            "[118]\tvalidation_0-mlogloss:0.11449\n",
            "[119]\tvalidation_0-mlogloss:0.11413\n",
            "[120]\tvalidation_0-mlogloss:0.113968\n",
            "[121]\tvalidation_0-mlogloss:0.113811\n",
            "[122]\tvalidation_0-mlogloss:0.113433\n",
            "[123]\tvalidation_0-mlogloss:0.113066\n",
            "[124]\tvalidation_0-mlogloss:0.112709\n",
            "[125]\tvalidation_0-mlogloss:0.112568\n",
            "[126]\tvalidation_0-mlogloss:0.11243\n",
            "[127]\tvalidation_0-mlogloss:0.112297\n",
            "[128]\tvalidation_0-mlogloss:0.112169\n",
            "[129]\tvalidation_0-mlogloss:0.112357\n",
            "[130]\tvalidation_0-mlogloss:0.112061\n",
            "[131]\tvalidation_0-mlogloss:0.111912\n",
            "[132]\tvalidation_0-mlogloss:0.111879\n",
            "[133]\tvalidation_0-mlogloss:0.111768\n",
            "[134]\tvalidation_0-mlogloss:0.111481\n",
            "[135]\tvalidation_0-mlogloss:0.11134\n",
            "[136]\tvalidation_0-mlogloss:0.111062\n",
            "[137]\tvalidation_0-mlogloss:0.110926\n",
            "[138]\tvalidation_0-mlogloss:0.110825\n",
            "[139]\tvalidation_0-mlogloss:0.110542\n",
            "[140]\tvalidation_0-mlogloss:0.110275\n",
            "[141]\tvalidation_0-mlogloss:0.110148\n",
            "[142]\tvalidation_0-mlogloss:0.110053\n",
            "[143]\tvalidation_0-mlogloss:0.109781\n",
            "[144]\tvalidation_0-mlogloss:0.109689\n",
            "[145]\tvalidation_0-mlogloss:0.109423\n",
            "[146]\tvalidation_0-mlogloss:0.109335\n",
            "[147]\tvalidation_0-mlogloss:0.109075\n",
            "[148]\tvalidation_0-mlogloss:0.10896\n",
            "[149]\tvalidation_0-mlogloss:0.108709\n",
            "[150]\tvalidation_0-mlogloss:0.1086\n",
            "[151]\tvalidation_0-mlogloss:0.108358\n",
            "[152]\tvalidation_0-mlogloss:0.108254\n",
            "[153]\tvalidation_0-mlogloss:0.108174\n",
            "[154]\tvalidation_0-mlogloss:0.10794\n",
            "[155]\tvalidation_0-mlogloss:0.10784\n",
            "[156]\tvalidation_0-mlogloss:0.107764\n",
            "[157]\tvalidation_0-mlogloss:0.107535\n",
            "[158]\tvalidation_0-mlogloss:0.107462\n",
            "[159]\tvalidation_0-mlogloss:0.107237\n",
            "[160]\tvalidation_0-mlogloss:0.107166\n",
            "[161]\tvalidation_0-mlogloss:0.106946\n",
            "[162]\tvalidation_0-mlogloss:0.106732\n",
            "[163]\tvalidation_0-mlogloss:0.106663\n",
            "[164]\tvalidation_0-mlogloss:0.106453\n",
            "[165]\tvalidation_0-mlogloss:0.106386\n",
            "[166]\tvalidation_0-mlogloss:0.106321\n",
            "[167]\tvalidation_0-mlogloss:0.10632\n",
            "[168]\tvalidation_0-mlogloss:0.10632\n",
            "[169]\tvalidation_0-mlogloss:0.106319\n",
            "[170]\tvalidation_0-mlogloss:0.106319\n",
            "[171]\tvalidation_0-mlogloss:0.106318\n",
            "[172]\tvalidation_0-mlogloss:0.106318\n",
            "[173]\tvalidation_0-mlogloss:0.106318\n",
            "[174]\tvalidation_0-mlogloss:0.106318\n",
            "[175]\tvalidation_0-mlogloss:0.106317\n",
            "[176]\tvalidation_0-mlogloss:0.106317\n",
            "[177]\tvalidation_0-mlogloss:0.106317\n",
            "[178]\tvalidation_0-mlogloss:0.106317\n",
            "[179]\tvalidation_0-mlogloss:0.106317\n",
            "[180]\tvalidation_0-mlogloss:0.106316\n",
            "[181]\tvalidation_0-mlogloss:0.106316\n",
            "[182]\tvalidation_0-mlogloss:0.106316\n",
            "[183]\tvalidation_0-mlogloss:0.106316\n",
            "[184]\tvalidation_0-mlogloss:0.106316\n",
            "[185]\tvalidation_0-mlogloss:0.106316\n",
            "[186]\tvalidation_0-mlogloss:0.106316\n",
            "[187]\tvalidation_0-mlogloss:0.106316\n",
            "[188]\tvalidation_0-mlogloss:0.106316\n",
            "[189]\tvalidation_0-mlogloss:0.106316\n",
            "[190]\tvalidation_0-mlogloss:0.106316\n",
            "[191]\tvalidation_0-mlogloss:0.106316\n",
            "[192]\tvalidation_0-mlogloss:0.106316\n",
            "[193]\tvalidation_0-mlogloss:0.106316\n",
            "[194]\tvalidation_0-mlogloss:0.106316\n",
            "[195]\tvalidation_0-mlogloss:0.106316\n",
            "[196]\tvalidation_0-mlogloss:0.106317\n",
            "[197]\tvalidation_0-mlogloss:0.106317\n",
            "[198]\tvalidation_0-mlogloss:0.106317\n",
            "[199]\tvalidation_0-mlogloss:0.106317\n",
            "[200]\tvalidation_0-mlogloss:0.106317\n",
            "[201]\tvalidation_0-mlogloss:0.106317\n",
            "[202]\tvalidation_0-mlogloss:0.106317\n",
            "[203]\tvalidation_0-mlogloss:0.106317\n",
            "[204]\tvalidation_0-mlogloss:0.106317\n",
            "[205]\tvalidation_0-mlogloss:0.106317\n",
            "[206]\tvalidation_0-mlogloss:0.106317\n",
            "[207]\tvalidation_0-mlogloss:0.106317\n",
            "[208]\tvalidation_0-mlogloss:0.106318\n",
            "[209]\tvalidation_0-mlogloss:0.106318\n",
            "[210]\tvalidation_0-mlogloss:0.106318\n",
            "[211]\tvalidation_0-mlogloss:0.106318\n",
            "[212]\tvalidation_0-mlogloss:0.106318\n",
            "[213]\tvalidation_0-mlogloss:0.106318\n",
            "[214]\tvalidation_0-mlogloss:0.106318\n",
            "[215]\tvalidation_0-mlogloss:0.106318\n",
            "[216]\tvalidation_0-mlogloss:0.106318\n",
            "[217]\tvalidation_0-mlogloss:0.106318\n",
            "[218]\tvalidation_0-mlogloss:0.106318\n",
            "[219]\tvalidation_0-mlogloss:0.106318\n",
            "[220]\tvalidation_0-mlogloss:0.106318\n",
            "[221]\tvalidation_0-mlogloss:0.106319\n",
            "[222]\tvalidation_0-mlogloss:0.106319\n",
            "[223]\tvalidation_0-mlogloss:0.106319\n",
            "[224]\tvalidation_0-mlogloss:0.106319\n",
            "[225]\tvalidation_0-mlogloss:0.106319\n",
            "[226]\tvalidation_0-mlogloss:0.106319\n",
            "[227]\tvalidation_0-mlogloss:0.106319\n",
            "[228]\tvalidation_0-mlogloss:0.106319\n",
            "[229]\tvalidation_0-mlogloss:0.106319\n",
            "[230]\tvalidation_0-mlogloss:0.106319\n",
            "[231]\tvalidation_0-mlogloss:0.106319\n",
            "[232]\tvalidation_0-mlogloss:0.106319\n",
            "[233]\tvalidation_0-mlogloss:0.106319\n",
            "[234]\tvalidation_0-mlogloss:0.106319\n",
            "[235]\tvalidation_0-mlogloss:0.106319\n",
            "[236]\tvalidation_0-mlogloss:0.106319\n",
            "[237]\tvalidation_0-mlogloss:0.106319\n",
            "[238]\tvalidation_0-mlogloss:0.106319\n",
            "[239]\tvalidation_0-mlogloss:0.10632\n",
            "[240]\tvalidation_0-mlogloss:0.10632\n",
            "[241]\tvalidation_0-mlogloss:0.10632\n",
            "[242]\tvalidation_0-mlogloss:0.10632\n",
            "[243]\tvalidation_0-mlogloss:0.10632\n",
            "[244]\tvalidation_0-mlogloss:0.10632\n",
            "[245]\tvalidation_0-mlogloss:0.10632\n",
            "[246]\tvalidation_0-mlogloss:0.10632\n",
            "[247]\tvalidation_0-mlogloss:0.10632\n",
            "[248]\tvalidation_0-mlogloss:0.10632\n",
            "[249]\tvalidation_0-mlogloss:0.10632\n",
            "[250]\tvalidation_0-mlogloss:0.10632\n",
            "[251]\tvalidation_0-mlogloss:0.10632\n",
            "[252]\tvalidation_0-mlogloss:0.10632\n",
            "[253]\tvalidation_0-mlogloss:0.10632\n",
            "[254]\tvalidation_0-mlogloss:0.10632\n",
            "[255]\tvalidation_0-mlogloss:0.10632\n",
            "[256]\tvalidation_0-mlogloss:0.10632\n",
            "[257]\tvalidation_0-mlogloss:0.10632\n",
            "[258]\tvalidation_0-mlogloss:0.10632\n",
            "[259]\tvalidation_0-mlogloss:0.10632\n",
            "[260]\tvalidation_0-mlogloss:0.10632\n",
            "[261]\tvalidation_0-mlogloss:0.10632\n",
            "[262]\tvalidation_0-mlogloss:0.10632\n",
            "[263]\tvalidation_0-mlogloss:0.10632\n",
            "[264]\tvalidation_0-mlogloss:0.10632\n",
            "[265]\tvalidation_0-mlogloss:0.10632\n",
            "[266]\tvalidation_0-mlogloss:0.10632\n",
            "[267]\tvalidation_0-mlogloss:0.10632\n",
            "[268]\tvalidation_0-mlogloss:0.10632\n",
            "[269]\tvalidation_0-mlogloss:0.10632\n",
            "[270]\tvalidation_0-mlogloss:0.10632\n",
            "[271]\tvalidation_0-mlogloss:0.10632\n",
            "[272]\tvalidation_0-mlogloss:0.10632\n",
            "[273]\tvalidation_0-mlogloss:0.10632\n",
            "[274]\tvalidation_0-mlogloss:0.10632\n",
            "[275]\tvalidation_0-mlogloss:0.10632\n",
            "[276]\tvalidation_0-mlogloss:0.10632\n",
            "[277]\tvalidation_0-mlogloss:0.10632\n",
            "[278]\tvalidation_0-mlogloss:0.10632\n",
            "[279]\tvalidation_0-mlogloss:0.10632\n",
            "[280]\tvalidation_0-mlogloss:0.10632\n",
            "Stopping. Best iteration:\n",
            "[180]\tvalidation_0-mlogloss:0.106316\n",
            "\n",
            "정확도:0.9630\n",
            "정밀도:0.9595\n",
            "재현율:0.9697\n",
            "f_score:0.9632\n"
          ],
          "name": "stdout"
        }
      ]
    },
    {
      "cell_type": "code",
      "metadata": {
        "id": "K6d8Q0bztqGp",
        "colab_type": "code",
        "colab": {}
      },
      "source": [
        "#boston 집값 예측 모델\n",
        "from xgboost import XGBRegressor\n",
        "from xgboost import  plot_importance\n",
        "\n",
        "from sklearn.datasets import load_boston\n",
        "from sklearn.model_selection import train_test_split\n",
        "from sklearn.metrics import  mean_squared_error#더 예민? 함\n"
      ],
      "execution_count": null,
      "outputs": []
    },
    {
      "cell_type": "code",
      "metadata": {
        "id": "OaD1Db4i4JYa",
        "colab_type": "code",
        "colab": {}
      },
      "source": [
        "boston=load_boston()\n",
        "X=boston.data\n",
        "y=boston.target\n",
        "col_names=boston.feature_names"
      ],
      "execution_count": null,
      "outputs": []
    },
    {
      "cell_type": "code",
      "metadata": {
        "id": "UeZU8kew4J4C",
        "colab_type": "code",
        "colab": {
          "base_uri": "https://localhost:8080/",
          "height": 89
        },
        "outputId": "7cc2f49c-5504-4b25-e40a-5f5cab062b3e"
      },
      "source": [
        "print(X.shape)\n",
        "print(y.shape)\n",
        "print(col_names)"
      ],
      "execution_count": null,
      "outputs": [
        {
          "output_type": "stream",
          "text": [
            "(506, 13)\n",
            "(506,)\n",
            "['CRIM' 'ZN' 'INDUS' 'CHAS' 'NOX' 'RM' 'AGE' 'DIS' 'RAD' 'TAX' 'PTRATIO'\n",
            " 'B' 'LSTAT']\n"
          ],
          "name": "stdout"
        }
      ]
    },
    {
      "cell_type": "code",
      "metadata": {
        "id": "30EpQvzi4RBi",
        "colab_type": "code",
        "colab": {
          "base_uri": "https://localhost:8080/",
          "height": 53
        },
        "outputId": "f843998e-472c-4666-a689-9a2b104f5f68"
      },
      "source": [
        "X_train,X_test,y_train,y_test =train_test_split(X,y,test_size=0.3)\n",
        "print(X_train.shape)\n",
        "print(X_test.shape)"
      ],
      "execution_count": null,
      "outputs": [
        {
          "output_type": "stream",
          "text": [
            "(354, 13)\n",
            "(152, 13)\n"
          ],
          "name": "stdout"
        }
      ]
    },
    {
      "cell_type": "code",
      "metadata": {
        "id": "Bgbfb2iH4l-G",
        "colab_type": "code",
        "colab": {
          "base_uri": "https://localhost:8080/",
          "height": 181
        },
        "outputId": "667ee5ff-2731-40f7-e635-42a8e7befd00"
      },
      "source": [
        "model=XGBRegressor()#objective는 선언해주기 안그럼 warning\n",
        "model.fit(X_train,y_train)"
      ],
      "execution_count": null,
      "outputs": [
        {
          "output_type": "stream",
          "text": [
            "[07:37:38] WARNING: /workspace/src/objective/regression_obj.cu:152: reg:linear is now deprecated in favor of reg:squarederror.\n"
          ],
          "name": "stdout"
        },
        {
          "output_type": "execute_result",
          "data": {
            "text/plain": [
              "XGBRegressor(base_score=0.5, booster='gbtree', colsample_bylevel=1,\n",
              "             colsample_bynode=1, colsample_bytree=1, gamma=0,\n",
              "             importance_type='gain', learning_rate=0.1, max_delta_step=0,\n",
              "             max_depth=3, min_child_weight=1, missing=None, n_estimators=100,\n",
              "             n_jobs=1, nthread=None, objective='reg:linear', random_state=0,\n",
              "             reg_alpha=0, reg_lambda=1, scale_pos_weight=1, seed=None,\n",
              "             silent=None, subsample=1, verbosity=1)"
            ]
          },
          "metadata": {
            "tags": []
          },
          "execution_count": 94
        }
      ]
    },
    {
      "cell_type": "code",
      "metadata": {
        "id": "jE44aM8n4l_2",
        "colab_type": "code",
        "colab": {
          "base_uri": "https://localhost:8080/",
          "height": 163
        },
        "outputId": "b44a7208-03b5-46ce-a562-2312e8f7c7eb"
      },
      "source": [
        "model=XGBRegressor(objective='reg:squarederror')#objective 옵션 오차제곱\n",
        "model.fit(X_train,y_train)"
      ],
      "execution_count": null,
      "outputs": [
        {
          "output_type": "execute_result",
          "data": {
            "text/plain": [
              "XGBRegressor(base_score=0.5, booster='gbtree', colsample_bylevel=1,\n",
              "             colsample_bynode=1, colsample_bytree=1, gamma=0,\n",
              "             importance_type='gain', learning_rate=0.1, max_delta_step=0,\n",
              "             max_depth=3, min_child_weight=1, missing=None, n_estimators=100,\n",
              "             n_jobs=1, nthread=None, objective='reg:squarederror',\n",
              "             random_state=0, reg_alpha=0, reg_lambda=1, scale_pos_weight=1,\n",
              "             seed=None, silent=None, subsample=1, verbosity=1)"
            ]
          },
          "metadata": {
            "tags": []
          },
          "execution_count": 96
        }
      ]
    },
    {
      "cell_type": "code",
      "metadata": {
        "id": "0gNlT8ej4l7j",
        "colab_type": "code",
        "colab": {}
      },
      "source": [
        "y_pred=model.predict(X_test)\n",
        "y_true=y_test"
      ],
      "execution_count": null,
      "outputs": []
    },
    {
      "cell_type": "code",
      "metadata": {
        "id": "WvRSFjem4l6R",
        "colab_type": "code",
        "colab": {
          "base_uri": "https://localhost:8080/",
          "height": 35
        },
        "outputId": "dbe56e42-fd68-4752-8a5d-ddfb1bbecca3"
      },
      "source": [
        "mse=mean_squared_error(y_true,y_pred)\n",
        "mse # 극단적인 값이 나올수 있기때문에 gridsearch를 해주는 것"
      ],
      "execution_count": null,
      "outputs": [
        {
          "output_type": "execute_result",
          "data": {
            "text/plain": [
              "10.3359012606888"
            ]
          },
          "metadata": {
            "tags": []
          },
          "execution_count": 98
        }
      ]
    },
    {
      "cell_type": "code",
      "metadata": {
        "id": "lZeLfsuK4l28",
        "colab_type": "code",
        "colab": {}
      },
      "source": [
        "#LightGBM : 대용량 데이터에서 강력"
      ],
      "execution_count": null,
      "outputs": []
    },
    {
      "cell_type": "code",
      "metadata": {
        "id": "69jY5EFK4l1O",
        "colab_type": "code",
        "colab": {
          "base_uri": "https://localhost:8080/",
          "height": 35
        },
        "outputId": "7959109c-82b1-4074-f68d-5a521c0f3b0c"
      },
      "source": [
        "cancer =load_breast_cancer()\n",
        "col_names = cancer.feature_names\n",
        "print(len(col_names))\n",
        "X_Data=pd.DataFrame(cancer.data,columns=col_names)\n",
        "y=pd.DataFrame(cancer.target)\n",
        "\n",
        "X_train,X_test,y_train,y_test =train_test_split(\n",
        "    cancer.data,cancer.target,random_state=0)\n"
      ],
      "execution_count": null,
      "outputs": [
        {
          "output_type": "stream",
          "text": [
            "30\n"
          ],
          "name": "stdout"
        }
      ]
    },
    {
      "cell_type": "code",
      "metadata": {
        "id": "TU4vyn_p4lyr",
        "colab_type": "code",
        "colab": {
          "base_uri": "https://localhost:8080/",
          "height": 145
        },
        "outputId": "04924578-34a6-421c-955f-0997adb0e693"
      },
      "source": [
        "from lightgbm import  LGBMClassifier,plot_importance\n",
        "lgb=LGBMClassifier(n_estimators=500,random_state=42)\n",
        "lgb.fit(X_train,y_train)"
      ],
      "execution_count": null,
      "outputs": [
        {
          "output_type": "execute_result",
          "data": {
            "text/plain": [
              "LGBMClassifier(boosting_type='gbdt', class_weight=None, colsample_bytree=1.0,\n",
              "               importance_type='split', learning_rate=0.1, max_depth=-1,\n",
              "               min_child_samples=20, min_child_weight=0.001, min_split_gain=0.0,\n",
              "               n_estimators=500, n_jobs=-1, num_leaves=31, objective=None,\n",
              "               random_state=42, reg_alpha=0.0, reg_lambda=0.0, silent=True,\n",
              "               subsample=1.0, subsample_for_bin=200000, subsample_freq=0)"
            ]
          },
          "metadata": {
            "tags": []
          },
          "execution_count": 109
        }
      ]
    },
    {
      "cell_type": "code",
      "metadata": {
        "id": "EmCUmBeF-W4J",
        "colab_type": "code",
        "colab": {
          "base_uri": "https://localhost:8080/",
          "height": 53
        },
        "outputId": "87eb962b-3933-4fb9-a7aa-17c65b220bdd"
      },
      "source": [
        "print(\"훈련세트 정확도:{:.3f}\".format(lgb.score(X_train,y_train)))\n",
        "print(\"테스트 세트 정확도:{:.3f}\".format(lgb.score(X_test,y_test)))"
      ],
      "execution_count": null,
      "outputs": [
        {
          "output_type": "stream",
          "text": [
            "훈련세트 정확도:1.000\n",
            "테스트 세트 정확도:0.979\n"
          ],
          "name": "stdout"
        }
      ]
    },
    {
      "cell_type": "code",
      "metadata": {
        "id": "ikKscRfr-uhr",
        "colab_type": "code",
        "colab": {
          "base_uri": "https://localhost:8080/",
          "height": 53
        },
        "outputId": "7f33acc2-5464-42ca-84be-c0940f13b2d8"
      },
      "source": [
        "lgb=LGBMClassifier(n_estimators=10,random_state=42)\n",
        "lgb.fit(X_train,y_train)\n",
        "print(\"훈련세트 정확도:{:.3f}\".format(lgb.score(X_train,y_train)))\n",
        "print(\"테스트 세트 정확도:{:.3f}\".format(lgb.score(X_test,y_test)))"
      ],
      "execution_count": null,
      "outputs": [
        {
          "output_type": "stream",
          "text": [
            "훈련세트 정확도:0.972\n",
            "테스트 세트 정확도:0.958\n"
          ],
          "name": "stdout"
        }
      ]
    },
    {
      "cell_type": "code",
      "metadata": {
        "id": "RugjfNuMBGyV",
        "colab_type": "code",
        "colab": {}
      },
      "source": [
        "evals=[(X_test,y_test)]"
      ],
      "execution_count": null,
      "outputs": []
    },
    {
      "cell_type": "code",
      "metadata": {
        "id": "A_ygFX9fBTaJ",
        "colab_type": "code",
        "colab": {
          "base_uri": "https://localhost:8080/",
          "height": 1000
        },
        "outputId": "6666036b-2882-43d1-de87-eea922750bbb"
      },
      "source": [
        "lgb.fit(X_train,y_train,early_stopping_rounds=100,eval_metric=\"logloss\",eval_set=evals,verbose=True)\n",
        "#eval_set :성능평가를 위한 평가용 데이터 셋 \n",
        "#eval_metric :평가세트에 적용ㄹ할 성능 평가방법"
      ],
      "execution_count": null,
      "outputs": [
        {
          "output_type": "stream",
          "text": [
            "[1]\tvalid_0's binary_logloss: 0.584425\tvalid_0's binary_logloss: 0.584425\n",
            "Training until validation scores don't improve for 100 rounds.\n",
            "[2]\tvalid_0's binary_logloss: 0.522997\tvalid_0's binary_logloss: 0.522997\n",
            "[3]\tvalid_0's binary_logloss: 0.476643\tvalid_0's binary_logloss: 0.476643\n",
            "[4]\tvalid_0's binary_logloss: 0.433657\tvalid_0's binary_logloss: 0.433657\n",
            "[5]\tvalid_0's binary_logloss: 0.397921\tvalid_0's binary_logloss: 0.397921\n",
            "[6]\tvalid_0's binary_logloss: 0.366946\tvalid_0's binary_logloss: 0.366946\n",
            "[7]\tvalid_0's binary_logloss: 0.334532\tvalid_0's binary_logloss: 0.334532\n",
            "[8]\tvalid_0's binary_logloss: 0.312633\tvalid_0's binary_logloss: 0.312633\n",
            "[9]\tvalid_0's binary_logloss: 0.28787\tvalid_0's binary_logloss: 0.28787\n",
            "[10]\tvalid_0's binary_logloss: 0.26702\tvalid_0's binary_logloss: 0.26702\n",
            "[11]\tvalid_0's binary_logloss: 0.249738\tvalid_0's binary_logloss: 0.249738\n",
            "[12]\tvalid_0's binary_logloss: 0.23343\tvalid_0's binary_logloss: 0.23343\n",
            "[13]\tvalid_0's binary_logloss: 0.221714\tvalid_0's binary_logloss: 0.221714\n",
            "[14]\tvalid_0's binary_logloss: 0.20739\tvalid_0's binary_logloss: 0.20739\n",
            "[15]\tvalid_0's binary_logloss: 0.195165\tvalid_0's binary_logloss: 0.195165\n",
            "[16]\tvalid_0's binary_logloss: 0.185568\tvalid_0's binary_logloss: 0.185568\n",
            "[17]\tvalid_0's binary_logloss: 0.176109\tvalid_0's binary_logloss: 0.176109\n",
            "[18]\tvalid_0's binary_logloss: 0.168247\tvalid_0's binary_logloss: 0.168247\n",
            "[19]\tvalid_0's binary_logloss: 0.160076\tvalid_0's binary_logloss: 0.160076\n",
            "[20]\tvalid_0's binary_logloss: 0.152026\tvalid_0's binary_logloss: 0.152026\n",
            "[21]\tvalid_0's binary_logloss: 0.145235\tvalid_0's binary_logloss: 0.145235\n",
            "[22]\tvalid_0's binary_logloss: 0.141025\tvalid_0's binary_logloss: 0.141025\n",
            "[23]\tvalid_0's binary_logloss: 0.134491\tvalid_0's binary_logloss: 0.134491\n",
            "[24]\tvalid_0's binary_logloss: 0.127888\tvalid_0's binary_logloss: 0.127888\n",
            "[25]\tvalid_0's binary_logloss: 0.121731\tvalid_0's binary_logloss: 0.121731\n",
            "[26]\tvalid_0's binary_logloss: 0.116387\tvalid_0's binary_logloss: 0.116387\n",
            "[27]\tvalid_0's binary_logloss: 0.11179\tvalid_0's binary_logloss: 0.11179\n",
            "[28]\tvalid_0's binary_logloss: 0.106562\tvalid_0's binary_logloss: 0.106562\n",
            "[29]\tvalid_0's binary_logloss: 0.103156\tvalid_0's binary_logloss: 0.103156\n",
            "[30]\tvalid_0's binary_logloss: 0.101\tvalid_0's binary_logloss: 0.101\n",
            "[31]\tvalid_0's binary_logloss: 0.0951661\tvalid_0's binary_logloss: 0.0951661\n",
            "[32]\tvalid_0's binary_logloss: 0.0924469\tvalid_0's binary_logloss: 0.0924469\n",
            "[33]\tvalid_0's binary_logloss: 0.0893291\tvalid_0's binary_logloss: 0.0893291\n",
            "[34]\tvalid_0's binary_logloss: 0.086251\tvalid_0's binary_logloss: 0.086251\n",
            "[35]\tvalid_0's binary_logloss: 0.0831558\tvalid_0's binary_logloss: 0.0831558\n",
            "[36]\tvalid_0's binary_logloss: 0.0804019\tvalid_0's binary_logloss: 0.0804019\n",
            "[37]\tvalid_0's binary_logloss: 0.0795171\tvalid_0's binary_logloss: 0.0795171\n",
            "[38]\tvalid_0's binary_logloss: 0.0777386\tvalid_0's binary_logloss: 0.0777386\n",
            "[39]\tvalid_0's binary_logloss: 0.0750601\tvalid_0's binary_logloss: 0.0750601\n",
            "[40]\tvalid_0's binary_logloss: 0.0735454\tvalid_0's binary_logloss: 0.0735454\n",
            "[41]\tvalid_0's binary_logloss: 0.0715534\tvalid_0's binary_logloss: 0.0715534\n",
            "[42]\tvalid_0's binary_logloss: 0.070372\tvalid_0's binary_logloss: 0.070372\n",
            "[43]\tvalid_0's binary_logloss: 0.069321\tvalid_0's binary_logloss: 0.069321\n",
            "[44]\tvalid_0's binary_logloss: 0.0696361\tvalid_0's binary_logloss: 0.0696361\n",
            "[45]\tvalid_0's binary_logloss: 0.0678199\tvalid_0's binary_logloss: 0.0678199\n",
            "[46]\tvalid_0's binary_logloss: 0.0674135\tvalid_0's binary_logloss: 0.0674135\n",
            "[47]\tvalid_0's binary_logloss: 0.0665682\tvalid_0's binary_logloss: 0.0665682\n",
            "[48]\tvalid_0's binary_logloss: 0.0648604\tvalid_0's binary_logloss: 0.0648604\n",
            "[49]\tvalid_0's binary_logloss: 0.0642199\tvalid_0's binary_logloss: 0.0642199\n",
            "[50]\tvalid_0's binary_logloss: 0.0644151\tvalid_0's binary_logloss: 0.0644151\n",
            "[51]\tvalid_0's binary_logloss: 0.0646158\tvalid_0's binary_logloss: 0.0646158\n",
            "[52]\tvalid_0's binary_logloss: 0.0635545\tvalid_0's binary_logloss: 0.0635545\n",
            "[53]\tvalid_0's binary_logloss: 0.0641144\tvalid_0's binary_logloss: 0.0641144\n",
            "[54]\tvalid_0's binary_logloss: 0.063356\tvalid_0's binary_logloss: 0.063356\n",
            "[55]\tvalid_0's binary_logloss: 0.0638268\tvalid_0's binary_logloss: 0.0638268\n",
            "[56]\tvalid_0's binary_logloss: 0.063075\tvalid_0's binary_logloss: 0.063075\n",
            "[57]\tvalid_0's binary_logloss: 0.0617358\tvalid_0's binary_logloss: 0.0617358\n",
            "[58]\tvalid_0's binary_logloss: 0.0619078\tvalid_0's binary_logloss: 0.0619078\n",
            "[59]\tvalid_0's binary_logloss: 0.0615894\tvalid_0's binary_logloss: 0.0615894\n",
            "[60]\tvalid_0's binary_logloss: 0.0610811\tvalid_0's binary_logloss: 0.0610811\n",
            "[61]\tvalid_0's binary_logloss: 0.0603821\tvalid_0's binary_logloss: 0.0603821\n",
            "[62]\tvalid_0's binary_logloss: 0.0593858\tvalid_0's binary_logloss: 0.0593858\n",
            "[63]\tvalid_0's binary_logloss: 0.0586001\tvalid_0's binary_logloss: 0.0586001\n",
            "[64]\tvalid_0's binary_logloss: 0.058568\tvalid_0's binary_logloss: 0.058568\n",
            "[65]\tvalid_0's binary_logloss: 0.0584076\tvalid_0's binary_logloss: 0.0584076\n",
            "[66]\tvalid_0's binary_logloss: 0.0582191\tvalid_0's binary_logloss: 0.0582191\n",
            "[67]\tvalid_0's binary_logloss: 0.0577896\tvalid_0's binary_logloss: 0.0577896\n",
            "[68]\tvalid_0's binary_logloss: 0.0591454\tvalid_0's binary_logloss: 0.0591454\n",
            "[69]\tvalid_0's binary_logloss: 0.0585747\tvalid_0's binary_logloss: 0.0585747\n",
            "[70]\tvalid_0's binary_logloss: 0.0587373\tvalid_0's binary_logloss: 0.0587373\n",
            "[71]\tvalid_0's binary_logloss: 0.0587078\tvalid_0's binary_logloss: 0.0587078\n",
            "[72]\tvalid_0's binary_logloss: 0.0580491\tvalid_0's binary_logloss: 0.0580491\n",
            "[73]\tvalid_0's binary_logloss: 0.0568568\tvalid_0's binary_logloss: 0.0568568\n",
            "[74]\tvalid_0's binary_logloss: 0.0557047\tvalid_0's binary_logloss: 0.0557047\n",
            "[75]\tvalid_0's binary_logloss: 0.0557679\tvalid_0's binary_logloss: 0.0557679\n",
            "[76]\tvalid_0's binary_logloss: 0.055544\tvalid_0's binary_logloss: 0.055544\n",
            "[77]\tvalid_0's binary_logloss: 0.0561146\tvalid_0's binary_logloss: 0.0561146\n",
            "[78]\tvalid_0's binary_logloss: 0.0548904\tvalid_0's binary_logloss: 0.0548904\n",
            "[79]\tvalid_0's binary_logloss: 0.0529765\tvalid_0's binary_logloss: 0.0529765\n",
            "[80]\tvalid_0's binary_logloss: 0.0533989\tvalid_0's binary_logloss: 0.0533989\n",
            "[81]\tvalid_0's binary_logloss: 0.0542875\tvalid_0's binary_logloss: 0.0542875\n",
            "[82]\tvalid_0's binary_logloss: 0.0541957\tvalid_0's binary_logloss: 0.0541957\n",
            "[83]\tvalid_0's binary_logloss: 0.0551532\tvalid_0's binary_logloss: 0.0551532\n",
            "[84]\tvalid_0's binary_logloss: 0.0550216\tvalid_0's binary_logloss: 0.0550216\n",
            "[85]\tvalid_0's binary_logloss: 0.0560431\tvalid_0's binary_logloss: 0.0560431\n",
            "[86]\tvalid_0's binary_logloss: 0.0558839\tvalid_0's binary_logloss: 0.0558839\n",
            "[87]\tvalid_0's binary_logloss: 0.056296\tvalid_0's binary_logloss: 0.056296\n",
            "[88]\tvalid_0's binary_logloss: 0.0549016\tvalid_0's binary_logloss: 0.0549016\n",
            "[89]\tvalid_0's binary_logloss: 0.054441\tvalid_0's binary_logloss: 0.054441\n",
            "[90]\tvalid_0's binary_logloss: 0.0527225\tvalid_0's binary_logloss: 0.0527225\n",
            "[91]\tvalid_0's binary_logloss: 0.051516\tvalid_0's binary_logloss: 0.051516\n",
            "[92]\tvalid_0's binary_logloss: 0.0511166\tvalid_0's binary_logloss: 0.0511166\n",
            "[93]\tvalid_0's binary_logloss: 0.051421\tvalid_0's binary_logloss: 0.051421\n",
            "[94]\tvalid_0's binary_logloss: 0.0499832\tvalid_0's binary_logloss: 0.0499832\n",
            "[95]\tvalid_0's binary_logloss: 0.0491257\tvalid_0's binary_logloss: 0.0491257\n",
            "[96]\tvalid_0's binary_logloss: 0.0490847\tvalid_0's binary_logloss: 0.0490847\n",
            "[97]\tvalid_0's binary_logloss: 0.0480941\tvalid_0's binary_logloss: 0.0480941\n",
            "[98]\tvalid_0's binary_logloss: 0.0491779\tvalid_0's binary_logloss: 0.0491779\n",
            "[99]\tvalid_0's binary_logloss: 0.0500223\tvalid_0's binary_logloss: 0.0500223\n",
            "[100]\tvalid_0's binary_logloss: 0.0510389\tvalid_0's binary_logloss: 0.0510389\n",
            "[101]\tvalid_0's binary_logloss: 0.0516626\tvalid_0's binary_logloss: 0.0516626\n",
            "[102]\tvalid_0's binary_logloss: 0.0515187\tvalid_0's binary_logloss: 0.0515187\n",
            "[103]\tvalid_0's binary_logloss: 0.0521923\tvalid_0's binary_logloss: 0.0521923\n",
            "[104]\tvalid_0's binary_logloss: 0.0528432\tvalid_0's binary_logloss: 0.0528432\n",
            "[105]\tvalid_0's binary_logloss: 0.0519361\tvalid_0's binary_logloss: 0.0519361\n",
            "[106]\tvalid_0's binary_logloss: 0.0511697\tvalid_0's binary_logloss: 0.0511697\n",
            "[107]\tvalid_0's binary_logloss: 0.051491\tvalid_0's binary_logloss: 0.051491\n",
            "[108]\tvalid_0's binary_logloss: 0.0524646\tvalid_0's binary_logloss: 0.0524646\n",
            "[109]\tvalid_0's binary_logloss: 0.050955\tvalid_0's binary_logloss: 0.050955\n",
            "[110]\tvalid_0's binary_logloss: 0.0510447\tvalid_0's binary_logloss: 0.0510447\n",
            "[111]\tvalid_0's binary_logloss: 0.0513911\tvalid_0's binary_logloss: 0.0513911\n",
            "[112]\tvalid_0's binary_logloss: 0.0528283\tvalid_0's binary_logloss: 0.0528283\n",
            "[113]\tvalid_0's binary_logloss: 0.053459\tvalid_0's binary_logloss: 0.053459\n",
            "[114]\tvalid_0's binary_logloss: 0.0533123\tvalid_0's binary_logloss: 0.0533123\n",
            "[115]\tvalid_0's binary_logloss: 0.052664\tvalid_0's binary_logloss: 0.052664\n",
            "[116]\tvalid_0's binary_logloss: 0.053607\tvalid_0's binary_logloss: 0.053607\n",
            "[117]\tvalid_0's binary_logloss: 0.052358\tvalid_0's binary_logloss: 0.052358\n",
            "[118]\tvalid_0's binary_logloss: 0.0528987\tvalid_0's binary_logloss: 0.0528987\n",
            "[119]\tvalid_0's binary_logloss: 0.0541709\tvalid_0's binary_logloss: 0.0541709\n",
            "[120]\tvalid_0's binary_logloss: 0.0542427\tvalid_0's binary_logloss: 0.0542427\n",
            "[121]\tvalid_0's binary_logloss: 0.0541273\tvalid_0's binary_logloss: 0.0541273\n",
            "[122]\tvalid_0's binary_logloss: 0.0548583\tvalid_0's binary_logloss: 0.0548583\n",
            "[123]\tvalid_0's binary_logloss: 0.0540647\tvalid_0's binary_logloss: 0.0540647\n",
            "[124]\tvalid_0's binary_logloss: 0.0546713\tvalid_0's binary_logloss: 0.0546713\n",
            "[125]\tvalid_0's binary_logloss: 0.0546625\tvalid_0's binary_logloss: 0.0546625\n",
            "[126]\tvalid_0's binary_logloss: 0.0563437\tvalid_0's binary_logloss: 0.0563437\n",
            "[127]\tvalid_0's binary_logloss: 0.0552797\tvalid_0's binary_logloss: 0.0552797\n",
            "[128]\tvalid_0's binary_logloss: 0.0536167\tvalid_0's binary_logloss: 0.0536167\n",
            "[129]\tvalid_0's binary_logloss: 0.0542072\tvalid_0's binary_logloss: 0.0542072\n",
            "[130]\tvalid_0's binary_logloss: 0.0542798\tvalid_0's binary_logloss: 0.0542798\n",
            "[131]\tvalid_0's binary_logloss: 0.0546194\tvalid_0's binary_logloss: 0.0546194\n",
            "[132]\tvalid_0's binary_logloss: 0.0525665\tvalid_0's binary_logloss: 0.0525665\n",
            "[133]\tvalid_0's binary_logloss: 0.0517788\tvalid_0's binary_logloss: 0.0517788\n",
            "[134]\tvalid_0's binary_logloss: 0.0515972\tvalid_0's binary_logloss: 0.0515972\n",
            "[135]\tvalid_0's binary_logloss: 0.0518496\tvalid_0's binary_logloss: 0.0518496\n",
            "[136]\tvalid_0's binary_logloss: 0.0511369\tvalid_0's binary_logloss: 0.0511369\n",
            "[137]\tvalid_0's binary_logloss: 0.0494452\tvalid_0's binary_logloss: 0.0494452\n",
            "[138]\tvalid_0's binary_logloss: 0.0494184\tvalid_0's binary_logloss: 0.0494184\n",
            "[139]\tvalid_0's binary_logloss: 0.0485741\tvalid_0's binary_logloss: 0.0485741\n",
            "[140]\tvalid_0's binary_logloss: 0.0495573\tvalid_0's binary_logloss: 0.0495573\n",
            "[141]\tvalid_0's binary_logloss: 0.0500818\tvalid_0's binary_logloss: 0.0500818\n",
            "[142]\tvalid_0's binary_logloss: 0.0510723\tvalid_0's binary_logloss: 0.0510723\n",
            "[143]\tvalid_0's binary_logloss: 0.0520526\tvalid_0's binary_logloss: 0.0520526\n",
            "[144]\tvalid_0's binary_logloss: 0.0513765\tvalid_0's binary_logloss: 0.0513765\n",
            "[145]\tvalid_0's binary_logloss: 0.0520931\tvalid_0's binary_logloss: 0.0520931\n",
            "[146]\tvalid_0's binary_logloss: 0.0537393\tvalid_0's binary_logloss: 0.0537393\n",
            "[147]\tvalid_0's binary_logloss: 0.0513152\tvalid_0's binary_logloss: 0.0513152\n",
            "[148]\tvalid_0's binary_logloss: 0.0507862\tvalid_0's binary_logloss: 0.0507862\n",
            "[149]\tvalid_0's binary_logloss: 0.0496218\tvalid_0's binary_logloss: 0.0496218\n",
            "[150]\tvalid_0's binary_logloss: 0.0502863\tvalid_0's binary_logloss: 0.0502863\n",
            "[151]\tvalid_0's binary_logloss: 0.0511934\tvalid_0's binary_logloss: 0.0511934\n",
            "[152]\tvalid_0's binary_logloss: 0.0498349\tvalid_0's binary_logloss: 0.0498349\n",
            "[153]\tvalid_0's binary_logloss: 0.0513845\tvalid_0's binary_logloss: 0.0513845\n",
            "[154]\tvalid_0's binary_logloss: 0.0522564\tvalid_0's binary_logloss: 0.0522564\n",
            "[155]\tvalid_0's binary_logloss: 0.0520279\tvalid_0's binary_logloss: 0.0520279\n",
            "[156]\tvalid_0's binary_logloss: 0.0505533\tvalid_0's binary_logloss: 0.0505533\n",
            "[157]\tvalid_0's binary_logloss: 0.0499961\tvalid_0's binary_logloss: 0.0499961\n",
            "[158]\tvalid_0's binary_logloss: 0.0506463\tvalid_0's binary_logloss: 0.0506463\n",
            "[159]\tvalid_0's binary_logloss: 0.0507954\tvalid_0's binary_logloss: 0.0507954\n",
            "[160]\tvalid_0's binary_logloss: 0.0498037\tvalid_0's binary_logloss: 0.0498037\n",
            "[161]\tvalid_0's binary_logloss: 0.0490648\tvalid_0's binary_logloss: 0.0490648\n",
            "[162]\tvalid_0's binary_logloss: 0.0480983\tvalid_0's binary_logloss: 0.0480983\n",
            "[163]\tvalid_0's binary_logloss: 0.0489114\tvalid_0's binary_logloss: 0.0489114\n",
            "[164]\tvalid_0's binary_logloss: 0.0480962\tvalid_0's binary_logloss: 0.0480962\n",
            "[165]\tvalid_0's binary_logloss: 0.0487886\tvalid_0's binary_logloss: 0.0487886\n",
            "[166]\tvalid_0's binary_logloss: 0.047904\tvalid_0's binary_logloss: 0.047904\n",
            "[167]\tvalid_0's binary_logloss: 0.048536\tvalid_0's binary_logloss: 0.048536\n",
            "[168]\tvalid_0's binary_logloss: 0.0478142\tvalid_0's binary_logloss: 0.0478142\n",
            "[169]\tvalid_0's binary_logloss: 0.0490836\tvalid_0's binary_logloss: 0.0490836\n",
            "[170]\tvalid_0's binary_logloss: 0.0489483\tvalid_0's binary_logloss: 0.0489483\n",
            "[171]\tvalid_0's binary_logloss: 0.0489815\tvalid_0's binary_logloss: 0.0489815\n",
            "[172]\tvalid_0's binary_logloss: 0.0487504\tvalid_0's binary_logloss: 0.0487504\n",
            "[173]\tvalid_0's binary_logloss: 0.0484387\tvalid_0's binary_logloss: 0.0484387\n",
            "[174]\tvalid_0's binary_logloss: 0.0485848\tvalid_0's binary_logloss: 0.0485848\n",
            "[175]\tvalid_0's binary_logloss: 0.0486667\tvalid_0's binary_logloss: 0.0486667\n",
            "[176]\tvalid_0's binary_logloss: 0.0487408\tvalid_0's binary_logloss: 0.0487408\n",
            "[177]\tvalid_0's binary_logloss: 0.0476944\tvalid_0's binary_logloss: 0.0476944\n",
            "[178]\tvalid_0's binary_logloss: 0.047784\tvalid_0's binary_logloss: 0.047784\n",
            "[179]\tvalid_0's binary_logloss: 0.0478525\tvalid_0's binary_logloss: 0.0478525\n",
            "[180]\tvalid_0's binary_logloss: 0.047939\tvalid_0's binary_logloss: 0.047939\n",
            "[181]\tvalid_0's binary_logloss: 0.0485245\tvalid_0's binary_logloss: 0.0485245\n",
            "[182]\tvalid_0's binary_logloss: 0.0481862\tvalid_0's binary_logloss: 0.0481862\n",
            "[183]\tvalid_0's binary_logloss: 0.0479213\tvalid_0's binary_logloss: 0.0479213\n",
            "[184]\tvalid_0's binary_logloss: 0.0479612\tvalid_0's binary_logloss: 0.0479612\n",
            "[185]\tvalid_0's binary_logloss: 0.0478694\tvalid_0's binary_logloss: 0.0478694\n",
            "[186]\tvalid_0's binary_logloss: 0.0481761\tvalid_0's binary_logloss: 0.0481761\n",
            "[187]\tvalid_0's binary_logloss: 0.0473081\tvalid_0's binary_logloss: 0.0473081\n",
            "[188]\tvalid_0's binary_logloss: 0.0476812\tvalid_0's binary_logloss: 0.0476812\n",
            "[189]\tvalid_0's binary_logloss: 0.0473853\tvalid_0's binary_logloss: 0.0473853\n",
            "[190]\tvalid_0's binary_logloss: 0.0468549\tvalid_0's binary_logloss: 0.0468549\n",
            "[191]\tvalid_0's binary_logloss: 0.0472763\tvalid_0's binary_logloss: 0.0472763\n",
            "[192]\tvalid_0's binary_logloss: 0.0473534\tvalid_0's binary_logloss: 0.0473534\n",
            "[193]\tvalid_0's binary_logloss: 0.0470097\tvalid_0's binary_logloss: 0.0470097\n",
            "[194]\tvalid_0's binary_logloss: 0.0473983\tvalid_0's binary_logloss: 0.0473983\n",
            "[195]\tvalid_0's binary_logloss: 0.0465475\tvalid_0's binary_logloss: 0.0465475\n",
            "[196]\tvalid_0's binary_logloss: 0.0462374\tvalid_0's binary_logloss: 0.0462374\n",
            "[197]\tvalid_0's binary_logloss: 0.0466789\tvalid_0's binary_logloss: 0.0466789\n",
            "[198]\tvalid_0's binary_logloss: 0.0470914\tvalid_0's binary_logloss: 0.0470914\n",
            "[199]\tvalid_0's binary_logloss: 0.0462996\tvalid_0's binary_logloss: 0.0462996\n",
            "[200]\tvalid_0's binary_logloss: 0.0466859\tvalid_0's binary_logloss: 0.0466859\n",
            "[201]\tvalid_0's binary_logloss: 0.0465938\tvalid_0's binary_logloss: 0.0465938\n",
            "[202]\tvalid_0's binary_logloss: 0.0464436\tvalid_0's binary_logloss: 0.0464436\n",
            "[203]\tvalid_0's binary_logloss: 0.0461396\tvalid_0's binary_logloss: 0.0461396\n",
            "[204]\tvalid_0's binary_logloss: 0.0462972\tvalid_0's binary_logloss: 0.0462972\n",
            "[205]\tvalid_0's binary_logloss: 0.045388\tvalid_0's binary_logloss: 0.045388\n",
            "[206]\tvalid_0's binary_logloss: 0.045918\tvalid_0's binary_logloss: 0.045918\n",
            "[207]\tvalid_0's binary_logloss: 0.0459353\tvalid_0's binary_logloss: 0.0459353\n",
            "[208]\tvalid_0's binary_logloss: 0.0460129\tvalid_0's binary_logloss: 0.0460129\n",
            "[209]\tvalid_0's binary_logloss: 0.0457886\tvalid_0's binary_logloss: 0.0457886\n",
            "[210]\tvalid_0's binary_logloss: 0.0449278\tvalid_0's binary_logloss: 0.0449278\n",
            "[211]\tvalid_0's binary_logloss: 0.0452083\tvalid_0's binary_logloss: 0.0452083\n",
            "[212]\tvalid_0's binary_logloss: 0.0445019\tvalid_0's binary_logloss: 0.0445019\n",
            "[213]\tvalid_0's binary_logloss: 0.0442516\tvalid_0's binary_logloss: 0.0442516\n",
            "[214]\tvalid_0's binary_logloss: 0.0437103\tvalid_0's binary_logloss: 0.0437103\n",
            "[215]\tvalid_0's binary_logloss: 0.0430655\tvalid_0's binary_logloss: 0.0430655\n",
            "[216]\tvalid_0's binary_logloss: 0.0435788\tvalid_0's binary_logloss: 0.0435788\n",
            "[217]\tvalid_0's binary_logloss: 0.0440429\tvalid_0's binary_logloss: 0.0440429\n",
            "[218]\tvalid_0's binary_logloss: 0.044191\tvalid_0's binary_logloss: 0.044191\n",
            "[219]\tvalid_0's binary_logloss: 0.0440777\tvalid_0's binary_logloss: 0.0440777\n",
            "[220]\tvalid_0's binary_logloss: 0.0433435\tvalid_0's binary_logloss: 0.0433435\n",
            "[221]\tvalid_0's binary_logloss: 0.0433244\tvalid_0's binary_logloss: 0.0433244\n",
            "[222]\tvalid_0's binary_logloss: 0.04314\tvalid_0's binary_logloss: 0.04314\n",
            "[223]\tvalid_0's binary_logloss: 0.0437054\tvalid_0's binary_logloss: 0.0437054\n",
            "[224]\tvalid_0's binary_logloss: 0.0441723\tvalid_0's binary_logloss: 0.0441723\n",
            "[225]\tvalid_0's binary_logloss: 0.0441967\tvalid_0's binary_logloss: 0.0441967\n",
            "[226]\tvalid_0's binary_logloss: 0.0436927\tvalid_0's binary_logloss: 0.0436927\n",
            "[227]\tvalid_0's binary_logloss: 0.0439407\tvalid_0's binary_logloss: 0.0439407\n",
            "[228]\tvalid_0's binary_logloss: 0.0439105\tvalid_0's binary_logloss: 0.0439105\n",
            "[229]\tvalid_0's binary_logloss: 0.0439379\tvalid_0's binary_logloss: 0.0439379\n",
            "[230]\tvalid_0's binary_logloss: 0.043767\tvalid_0's binary_logloss: 0.043767\n",
            "[231]\tvalid_0's binary_logloss: 0.0438419\tvalid_0's binary_logloss: 0.0438419\n",
            "[232]\tvalid_0's binary_logloss: 0.0442754\tvalid_0's binary_logloss: 0.0442754\n",
            "[233]\tvalid_0's binary_logloss: 0.0437845\tvalid_0's binary_logloss: 0.0437845\n",
            "[234]\tvalid_0's binary_logloss: 0.0437807\tvalid_0's binary_logloss: 0.0437807\n",
            "[235]\tvalid_0's binary_logloss: 0.043946\tvalid_0's binary_logloss: 0.043946\n",
            "[236]\tvalid_0's binary_logloss: 0.0434701\tvalid_0's binary_logloss: 0.0434701\n",
            "[237]\tvalid_0's binary_logloss: 0.0437211\tvalid_0's binary_logloss: 0.0437211\n",
            "[238]\tvalid_0's binary_logloss: 0.0432723\tvalid_0's binary_logloss: 0.0432723\n",
            "[239]\tvalid_0's binary_logloss: 0.043697\tvalid_0's binary_logloss: 0.043697\n",
            "[240]\tvalid_0's binary_logloss: 0.0437328\tvalid_0's binary_logloss: 0.0437328\n",
            "[241]\tvalid_0's binary_logloss: 0.0433138\tvalid_0's binary_logloss: 0.0433138\n",
            "[242]\tvalid_0's binary_logloss: 0.0436095\tvalid_0's binary_logloss: 0.0436095\n",
            "[243]\tvalid_0's binary_logloss: 0.0438556\tvalid_0's binary_logloss: 0.0438556\n",
            "[244]\tvalid_0's binary_logloss: 0.043385\tvalid_0's binary_logloss: 0.043385\n",
            "[245]\tvalid_0's binary_logloss: 0.0429646\tvalid_0's binary_logloss: 0.0429646\n",
            "[246]\tvalid_0's binary_logloss: 0.0431196\tvalid_0's binary_logloss: 0.0431196\n",
            "[247]\tvalid_0's binary_logloss: 0.0429698\tvalid_0's binary_logloss: 0.0429698\n",
            "[248]\tvalid_0's binary_logloss: 0.0430074\tvalid_0's binary_logloss: 0.0430074\n",
            "[249]\tvalid_0's binary_logloss: 0.0434149\tvalid_0's binary_logloss: 0.0434149\n",
            "[250]\tvalid_0's binary_logloss: 0.0430006\tvalid_0's binary_logloss: 0.0430006\n",
            "[251]\tvalid_0's binary_logloss: 0.0430426\tvalid_0's binary_logloss: 0.0430426\n",
            "[252]\tvalid_0's binary_logloss: 0.0429011\tvalid_0's binary_logloss: 0.0429011\n",
            "[253]\tvalid_0's binary_logloss: 0.0426579\tvalid_0's binary_logloss: 0.0426579\n",
            "[254]\tvalid_0's binary_logloss: 0.0429359\tvalid_0's binary_logloss: 0.0429359\n",
            "[255]\tvalid_0's binary_logloss: 0.042484\tvalid_0's binary_logloss: 0.042484\n",
            "[256]\tvalid_0's binary_logloss: 0.0424952\tvalid_0's binary_logloss: 0.0424952\n",
            "[257]\tvalid_0's binary_logloss: 0.0427728\tvalid_0's binary_logloss: 0.0427728\n",
            "[258]\tvalid_0's binary_logloss: 0.0423698\tvalid_0's binary_logloss: 0.0423698\n",
            "[259]\tvalid_0's binary_logloss: 0.0425131\tvalid_0's binary_logloss: 0.0425131\n",
            "[260]\tvalid_0's binary_logloss: 0.0423785\tvalid_0's binary_logloss: 0.0423785\n",
            "[261]\tvalid_0's binary_logloss: 0.041998\tvalid_0's binary_logloss: 0.041998\n",
            "[262]\tvalid_0's binary_logloss: 0.0422768\tvalid_0's binary_logloss: 0.0422768\n",
            "[263]\tvalid_0's binary_logloss: 0.0418412\tvalid_0's binary_logloss: 0.0418412\n",
            "[264]\tvalid_0's binary_logloss: 0.0418837\tvalid_0's binary_logloss: 0.0418837\n",
            "[265]\tvalid_0's binary_logloss: 0.0420285\tvalid_0's binary_logloss: 0.0420285\n",
            "[266]\tvalid_0's binary_logloss: 0.042408\tvalid_0's binary_logloss: 0.042408\n",
            "[267]\tvalid_0's binary_logloss: 0.0420177\tvalid_0's binary_logloss: 0.0420177\n",
            "[268]\tvalid_0's binary_logloss: 0.0422914\tvalid_0's binary_logloss: 0.0422914\n",
            "[269]\tvalid_0's binary_logloss: 0.041888\tvalid_0's binary_logloss: 0.041888\n",
            "[270]\tvalid_0's binary_logloss: 0.0415188\tvalid_0's binary_logloss: 0.0415188\n",
            "[271]\tvalid_0's binary_logloss: 0.0416582\tvalid_0's binary_logloss: 0.0416582\n",
            "[272]\tvalid_0's binary_logloss: 0.0417004\tvalid_0's binary_logloss: 0.0417004\n",
            "[273]\tvalid_0's binary_logloss: 0.0415768\tvalid_0's binary_logloss: 0.0415768\n",
            "[274]\tvalid_0's binary_logloss: 0.0416157\tvalid_0's binary_logloss: 0.0416157\n",
            "[275]\tvalid_0's binary_logloss: 0.0418878\tvalid_0's binary_logloss: 0.0418878\n",
            "[276]\tvalid_0's binary_logloss: 0.0415269\tvalid_0's binary_logloss: 0.0415269\n",
            "[277]\tvalid_0's binary_logloss: 0.0417941\tvalid_0's binary_logloss: 0.0417941\n",
            "[278]\tvalid_0's binary_logloss: 0.0413702\tvalid_0's binary_logloss: 0.0413702\n",
            "[279]\tvalid_0's binary_logloss: 0.0414141\tvalid_0's binary_logloss: 0.0414141\n",
            "[280]\tvalid_0's binary_logloss: 0.0416848\tvalid_0's binary_logloss: 0.0416848\n",
            "[281]\tvalid_0's binary_logloss: 0.0413333\tvalid_0's binary_logloss: 0.0413333\n",
            "[282]\tvalid_0's binary_logloss: 0.0414706\tvalid_0's binary_logloss: 0.0414706\n",
            "[283]\tvalid_0's binary_logloss: 0.0413578\tvalid_0's binary_logloss: 0.0413578\n",
            "[284]\tvalid_0's binary_logloss: 0.0411389\tvalid_0's binary_logloss: 0.0411389\n",
            "[285]\tvalid_0's binary_logloss: 0.0407298\tvalid_0's binary_logloss: 0.0407298\n",
            "[286]\tvalid_0's binary_logloss: 0.0410875\tvalid_0's binary_logloss: 0.0410875\n",
            "[287]\tvalid_0's binary_logloss: 0.0407402\tvalid_0's binary_logloss: 0.0407402\n",
            "[288]\tvalid_0's binary_logloss: 0.0410065\tvalid_0's binary_logloss: 0.0410065\n",
            "[289]\tvalid_0's binary_logloss: 0.041052\tvalid_0's binary_logloss: 0.041052\n",
            "[290]\tvalid_0's binary_logloss: 0.0411807\tvalid_0's binary_logloss: 0.0411807\n",
            "[291]\tvalid_0's binary_logloss: 0.0408449\tvalid_0's binary_logloss: 0.0408449\n",
            "[292]\tvalid_0's binary_logloss: 0.0407378\tvalid_0's binary_logloss: 0.0407378\n",
            "[293]\tvalid_0's binary_logloss: 0.0407723\tvalid_0's binary_logloss: 0.0407723\n",
            "[294]\tvalid_0's binary_logloss: 0.0404014\tvalid_0's binary_logloss: 0.0404014\n",
            "[295]\tvalid_0's binary_logloss: 0.0406662\tvalid_0's binary_logloss: 0.0406662\n",
            "[296]\tvalid_0's binary_logloss: 0.0403535\tvalid_0's binary_logloss: 0.0403535\n",
            "[297]\tvalid_0's binary_logloss: 0.0406983\tvalid_0's binary_logloss: 0.0406983\n",
            "[298]\tvalid_0's binary_logloss: 0.0403687\tvalid_0's binary_logloss: 0.0403687\n",
            "[299]\tvalid_0's binary_logloss: 0.040402\tvalid_0's binary_logloss: 0.040402\n",
            "[300]\tvalid_0's binary_logloss: 0.0403055\tvalid_0's binary_logloss: 0.0403055\n",
            "[301]\tvalid_0's binary_logloss: 0.0403532\tvalid_0's binary_logloss: 0.0403532\n",
            "[302]\tvalid_0's binary_logloss: 0.04048\tvalid_0's binary_logloss: 0.04048\n",
            "[303]\tvalid_0's binary_logloss: 0.0401247\tvalid_0's binary_logloss: 0.0401247\n",
            "[304]\tvalid_0's binary_logloss: 0.0403868\tvalid_0's binary_logloss: 0.0403868\n",
            "[305]\tvalid_0's binary_logloss: 0.0400631\tvalid_0's binary_logloss: 0.0400631\n",
            "[306]\tvalid_0's binary_logloss: 0.0403016\tvalid_0's binary_logloss: 0.0403016\n",
            "[307]\tvalid_0's binary_logloss: 0.0399448\tvalid_0's binary_logloss: 0.0399448\n",
            "[308]\tvalid_0's binary_logloss: 0.0400693\tvalid_0's binary_logloss: 0.0400693\n",
            "[309]\tvalid_0's binary_logloss: 0.0403253\tvalid_0's binary_logloss: 0.0403253\n",
            "[310]\tvalid_0's binary_logloss: 0.0400079\tvalid_0's binary_logloss: 0.0400079\n",
            "[311]\tvalid_0's binary_logloss: 0.0403432\tvalid_0's binary_logloss: 0.0403432\n",
            "[312]\tvalid_0's binary_logloss: 0.0403897\tvalid_0's binary_logloss: 0.0403897\n",
            "[313]\tvalid_0's binary_logloss: 0.0402999\tvalid_0's binary_logloss: 0.0402999\n",
            "[314]\tvalid_0's binary_logloss: 0.0401007\tvalid_0's binary_logloss: 0.0401007\n",
            "[315]\tvalid_0's binary_logloss: 0.0397396\tvalid_0's binary_logloss: 0.0397396\n",
            "[316]\tvalid_0's binary_logloss: 0.0399785\tvalid_0's binary_logloss: 0.0399785\n",
            "[317]\tvalid_0's binary_logloss: 0.040313\tvalid_0's binary_logloss: 0.040313\n",
            "[318]\tvalid_0's binary_logloss: 0.0400998\tvalid_0's binary_logloss: 0.0400998\n",
            "[319]\tvalid_0's binary_logloss: 0.0402183\tvalid_0's binary_logloss: 0.0402183\n",
            "[320]\tvalid_0's binary_logloss: 0.0398755\tvalid_0's binary_logloss: 0.0398755\n",
            "[321]\tvalid_0's binary_logloss: 0.0401333\tvalid_0's binary_logloss: 0.0401333\n",
            "[322]\tvalid_0's binary_logloss: 0.0398235\tvalid_0's binary_logloss: 0.0398235\n",
            "[323]\tvalid_0's binary_logloss: 0.0400532\tvalid_0's binary_logloss: 0.0400532\n",
            "[324]\tvalid_0's binary_logloss: 0.0397091\tvalid_0's binary_logloss: 0.0397091\n",
            "[325]\tvalid_0's binary_logloss: 0.0399626\tvalid_0's binary_logloss: 0.0399626\n",
            "[326]\tvalid_0's binary_logloss: 0.0396734\tvalid_0's binary_logloss: 0.0396734\n",
            "[327]\tvalid_0's binary_logloss: 0.0397946\tvalid_0's binary_logloss: 0.0397946\n",
            "[328]\tvalid_0's binary_logloss: 0.0397146\tvalid_0's binary_logloss: 0.0397146\n",
            "[329]\tvalid_0's binary_logloss: 0.0397391\tvalid_0's binary_logloss: 0.0397391\n",
            "[330]\tvalid_0's binary_logloss: 0.0394113\tvalid_0's binary_logloss: 0.0394113\n",
            "[331]\tvalid_0's binary_logloss: 0.0391351\tvalid_0's binary_logloss: 0.0391351\n",
            "[332]\tvalid_0's binary_logloss: 0.0393908\tvalid_0's binary_logloss: 0.0393908\n",
            "[333]\tvalid_0's binary_logloss: 0.0391971\tvalid_0's binary_logloss: 0.0391971\n",
            "[334]\tvalid_0's binary_logloss: 0.0391252\tvalid_0's binary_logloss: 0.0391252\n",
            "[335]\tvalid_0's binary_logloss: 0.0391494\tvalid_0's binary_logloss: 0.0391494\n",
            "[336]\tvalid_0's binary_logloss: 0.0388758\tvalid_0's binary_logloss: 0.0388758\n",
            "[337]\tvalid_0's binary_logloss: 0.0391166\tvalid_0's binary_logloss: 0.0391166\n",
            "[338]\tvalid_0's binary_logloss: 0.0387999\tvalid_0's binary_logloss: 0.0387999\n",
            "[339]\tvalid_0's binary_logloss: 0.0385372\tvalid_0's binary_logloss: 0.0385372\n",
            "[340]\tvalid_0's binary_logloss: 0.0387731\tvalid_0's binary_logloss: 0.0387731\n",
            "[341]\tvalid_0's binary_logloss: 0.0387973\tvalid_0's binary_logloss: 0.0387973\n",
            "[342]\tvalid_0's binary_logloss: 0.0384966\tvalid_0's binary_logloss: 0.0384966\n",
            "[343]\tvalid_0's binary_logloss: 0.0383167\tvalid_0's binary_logloss: 0.0383167\n",
            "[344]\tvalid_0's binary_logloss: 0.0385448\tvalid_0's binary_logloss: 0.0385448\n",
            "[345]\tvalid_0's binary_logloss: 0.0382858\tvalid_0's binary_logloss: 0.0382858\n",
            "[346]\tvalid_0's binary_logloss: 0.0380013\tvalid_0's binary_logloss: 0.0380013\n",
            "[347]\tvalid_0's binary_logloss: 0.0383194\tvalid_0's binary_logloss: 0.0383194\n",
            "[348]\tvalid_0's binary_logloss: 0.0380756\tvalid_0's binary_logloss: 0.0380756\n",
            "[349]\tvalid_0's binary_logloss: 0.0380981\tvalid_0's binary_logloss: 0.0380981\n",
            "[350]\tvalid_0's binary_logloss: 0.0383409\tvalid_0's binary_logloss: 0.0383409\n",
            "[351]\tvalid_0's binary_logloss: 0.0380593\tvalid_0's binary_logloss: 0.0380593\n",
            "[352]\tvalid_0's binary_logloss: 0.0378918\tvalid_0's binary_logloss: 0.0378918\n",
            "[353]\tvalid_0's binary_logloss: 0.0381977\tvalid_0's binary_logloss: 0.0381977\n",
            "[354]\tvalid_0's binary_logloss: 0.0379589\tvalid_0's binary_logloss: 0.0379589\n",
            "[355]\tvalid_0's binary_logloss: 0.0381908\tvalid_0's binary_logloss: 0.0381908\n",
            "[356]\tvalid_0's binary_logloss: 0.037909\tvalid_0's binary_logloss: 0.037909\n",
            "[357]\tvalid_0's binary_logloss: 0.0376836\tvalid_0's binary_logloss: 0.0376836\n",
            "[358]\tvalid_0's binary_logloss: 0.0378295\tvalid_0's binary_logloss: 0.0378295\n",
            "[359]\tvalid_0's binary_logloss: 0.0381163\tvalid_0's binary_logloss: 0.0381163\n",
            "[360]\tvalid_0's binary_logloss: 0.03789\tvalid_0's binary_logloss: 0.03789\n",
            "[361]\tvalid_0's binary_logloss: 0.0376282\tvalid_0's binary_logloss: 0.0376282\n",
            "[362]\tvalid_0's binary_logloss: 0.0378598\tvalid_0's binary_logloss: 0.0378598\n",
            "[363]\tvalid_0's binary_logloss: 0.0376965\tvalid_0's binary_logloss: 0.0376965\n",
            "[364]\tvalid_0's binary_logloss: 0.0377157\tvalid_0's binary_logloss: 0.0377157\n",
            "[365]\tvalid_0's binary_logloss: 0.0374623\tvalid_0's binary_logloss: 0.0374623\n",
            "[366]\tvalid_0's binary_logloss: 0.0377378\tvalid_0's binary_logloss: 0.0377378\n",
            "[367]\tvalid_0's binary_logloss: 0.0375235\tvalid_0's binary_logloss: 0.0375235\n",
            "[368]\tvalid_0's binary_logloss: 0.0372659\tvalid_0's binary_logloss: 0.0372659\n",
            "[369]\tvalid_0's binary_logloss: 0.0372861\tvalid_0's binary_logloss: 0.0372861\n",
            "[370]\tvalid_0's binary_logloss: 0.037544\tvalid_0's binary_logloss: 0.037544\n",
            "[371]\tvalid_0's binary_logloss: 0.0372823\tvalid_0's binary_logloss: 0.0372823\n",
            "[372]\tvalid_0's binary_logloss: 0.037138\tvalid_0's binary_logloss: 0.037138\n",
            "[373]\tvalid_0's binary_logloss: 0.0374093\tvalid_0's binary_logloss: 0.0374093\n",
            "[374]\tvalid_0's binary_logloss: 0.0372028\tvalid_0's binary_logloss: 0.0372028\n",
            "[375]\tvalid_0's binary_logloss: 0.0369575\tvalid_0's binary_logloss: 0.0369575\n",
            "[376]\tvalid_0's binary_logloss: 0.0371679\tvalid_0's binary_logloss: 0.0371679\n",
            "[377]\tvalid_0's binary_logloss: 0.0369721\tvalid_0's binary_logloss: 0.0369721\n",
            "[378]\tvalid_0's binary_logloss: 0.0372303\tvalid_0's binary_logloss: 0.0372303\n",
            "[379]\tvalid_0's binary_logloss: 0.037249\tvalid_0's binary_logloss: 0.037249\n",
            "[380]\tvalid_0's binary_logloss: 0.0369936\tvalid_0's binary_logloss: 0.0369936\n",
            "[381]\tvalid_0's binary_logloss: 0.0372529\tvalid_0's binary_logloss: 0.0372529\n",
            "[382]\tvalid_0's binary_logloss: 0.0370146\tvalid_0's binary_logloss: 0.0370146\n",
            "[383]\tvalid_0's binary_logloss: 0.0368227\tvalid_0's binary_logloss: 0.0368227\n",
            "[384]\tvalid_0's binary_logloss: 0.0369409\tvalid_0's binary_logloss: 0.0369409\n",
            "[385]\tvalid_0's binary_logloss: 0.0368118\tvalid_0's binary_logloss: 0.0368118\n",
            "[386]\tvalid_0's binary_logloss: 0.0365735\tvalid_0's binary_logloss: 0.0365735\n",
            "[387]\tvalid_0's binary_logloss: 0.0368299\tvalid_0's binary_logloss: 0.0368299\n",
            "[388]\tvalid_0's binary_logloss: 0.0368491\tvalid_0's binary_logloss: 0.0368491\n",
            "[389]\tvalid_0's binary_logloss: 0.0366235\tvalid_0's binary_logloss: 0.0366235\n",
            "[390]\tvalid_0's binary_logloss: 0.0364382\tvalid_0's binary_logloss: 0.0364382\n",
            "[391]\tvalid_0's binary_logloss: 0.0366874\tvalid_0's binary_logloss: 0.0366874\n",
            "[392]\tvalid_0's binary_logloss: 0.0365653\tvalid_0's binary_logloss: 0.0365653\n",
            "[393]\tvalid_0's binary_logloss: 0.0363421\tvalid_0's binary_logloss: 0.0363421\n",
            "[394]\tvalid_0's binary_logloss: 0.0365424\tvalid_0's binary_logloss: 0.0365424\n",
            "[395]\tvalid_0's binary_logloss: 0.0363233\tvalid_0's binary_logloss: 0.0363233\n",
            "[396]\tvalid_0's binary_logloss: 0.0363425\tvalid_0's binary_logloss: 0.0363425\n",
            "[397]\tvalid_0's binary_logloss: 0.036167\tvalid_0's binary_logloss: 0.036167\n",
            "[398]\tvalid_0's binary_logloss: 0.0364141\tvalid_0's binary_logloss: 0.0364141\n",
            "[399]\tvalid_0's binary_logloss: 0.0362036\tvalid_0's binary_logloss: 0.0362036\n",
            "[400]\tvalid_0's binary_logloss: 0.0359908\tvalid_0's binary_logloss: 0.0359908\n",
            "[401]\tvalid_0's binary_logloss: 0.0360977\tvalid_0's binary_logloss: 0.0360977\n",
            "[402]\tvalid_0's binary_logloss: 0.0359798\tvalid_0's binary_logloss: 0.0359798\n",
            "[403]\tvalid_0's binary_logloss: 0.0362154\tvalid_0's binary_logloss: 0.0362154\n",
            "[404]\tvalid_0's binary_logloss: 0.036039\tvalid_0's binary_logloss: 0.036039\n",
            "[405]\tvalid_0's binary_logloss: 0.036057\tvalid_0's binary_logloss: 0.036057\n",
            "[406]\tvalid_0's binary_logloss: 0.0358464\tvalid_0's binary_logloss: 0.0358464\n",
            "[407]\tvalid_0's binary_logloss: 0.0360754\tvalid_0's binary_logloss: 0.0360754\n",
            "[408]\tvalid_0's binary_logloss: 0.0358693\tvalid_0's binary_logloss: 0.0358693\n",
            "[409]\tvalid_0's binary_logloss: 0.0357578\tvalid_0's binary_logloss: 0.0357578\n",
            "[410]\tvalid_0's binary_logloss: 0.0359784\tvalid_0's binary_logloss: 0.0359784\n",
            "[411]\tvalid_0's binary_logloss: 0.0358134\tvalid_0's binary_logloss: 0.0358134\n",
            "[412]\tvalid_0's binary_logloss: 0.0356174\tvalid_0's binary_logloss: 0.0356174\n",
            "[413]\tvalid_0's binary_logloss: 0.0354218\tvalid_0's binary_logloss: 0.0354218\n",
            "[414]\tvalid_0's binary_logloss: 0.0354407\tvalid_0's binary_logloss: 0.0354407\n",
            "[415]\tvalid_0's binary_logloss: 0.0356611\tvalid_0's binary_logloss: 0.0356611\n",
            "[416]\tvalid_0's binary_logloss: 0.0355558\tvalid_0's binary_logloss: 0.0355558\n",
            "[417]\tvalid_0's binary_logloss: 0.03536\tvalid_0's binary_logloss: 0.03536\n",
            "[418]\tvalid_0's binary_logloss: 0.0354564\tvalid_0's binary_logloss: 0.0354564\n",
            "[419]\tvalid_0's binary_logloss: 0.035304\tvalid_0's binary_logloss: 0.035304\n",
            "[420]\tvalid_0's binary_logloss: 0.0355158\tvalid_0's binary_logloss: 0.0355158\n",
            "[421]\tvalid_0's binary_logloss: 0.0353235\tvalid_0's binary_logloss: 0.0353235\n",
            "[422]\tvalid_0's binary_logloss: 0.0354901\tvalid_0's binary_logloss: 0.0354901\n",
            "[423]\tvalid_0's binary_logloss: 0.0353395\tvalid_0's binary_logloss: 0.0353395\n",
            "[424]\tvalid_0's binary_logloss: 0.0351595\tvalid_0's binary_logloss: 0.0351595\n",
            "[425]\tvalid_0's binary_logloss: 0.0353641\tvalid_0's binary_logloss: 0.0353641\n",
            "[426]\tvalid_0's binary_logloss: 0.0351812\tvalid_0's binary_logloss: 0.0351812\n",
            "[427]\tvalid_0's binary_logloss: 0.0350867\tvalid_0's binary_logloss: 0.0350867\n",
            "[428]\tvalid_0's binary_logloss: 0.0352492\tvalid_0's binary_logloss: 0.0352492\n",
            "[429]\tvalid_0's binary_logloss: 0.0351129\tvalid_0's binary_logloss: 0.0351129\n",
            "[430]\tvalid_0's binary_logloss: 0.0352662\tvalid_0's binary_logloss: 0.0352662\n",
            "[431]\tvalid_0's binary_logloss: 0.0353291\tvalid_0's binary_logloss: 0.0353291\n",
            "[432]\tvalid_0's binary_logloss: 0.0352943\tvalid_0's binary_logloss: 0.0352943\n",
            "[433]\tvalid_0's binary_logloss: 0.0353702\tvalid_0's binary_logloss: 0.0353702\n",
            "[434]\tvalid_0's binary_logloss: 0.0353702\tvalid_0's binary_logloss: 0.0353702\n",
            "[435]\tvalid_0's binary_logloss: 0.0353702\tvalid_0's binary_logloss: 0.0353702\n",
            "[436]\tvalid_0's binary_logloss: 0.0353702\tvalid_0's binary_logloss: 0.0353702\n",
            "[437]\tvalid_0's binary_logloss: 0.0353702\tvalid_0's binary_logloss: 0.0353702\n",
            "[438]\tvalid_0's binary_logloss: 0.0353702\tvalid_0's binary_logloss: 0.0353702\n",
            "[439]\tvalid_0's binary_logloss: 0.0353702\tvalid_0's binary_logloss: 0.0353702\n",
            "[440]\tvalid_0's binary_logloss: 0.0353702\tvalid_0's binary_logloss: 0.0353702\n",
            "[441]\tvalid_0's binary_logloss: 0.0353702\tvalid_0's binary_logloss: 0.0353702\n",
            "[442]\tvalid_0's binary_logloss: 0.0353702\tvalid_0's binary_logloss: 0.0353702\n",
            "[443]\tvalid_0's binary_logloss: 0.0353702\tvalid_0's binary_logloss: 0.0353702\n",
            "[444]\tvalid_0's binary_logloss: 0.0353702\tvalid_0's binary_logloss: 0.0353702\n",
            "[445]\tvalid_0's binary_logloss: 0.0353702\tvalid_0's binary_logloss: 0.0353702\n",
            "[446]\tvalid_0's binary_logloss: 0.0353702\tvalid_0's binary_logloss: 0.0353702\n",
            "[447]\tvalid_0's binary_logloss: 0.0353702\tvalid_0's binary_logloss: 0.0353702\n",
            "[448]\tvalid_0's binary_logloss: 0.0353702\tvalid_0's binary_logloss: 0.0353702\n",
            "[449]\tvalid_0's binary_logloss: 0.0353702\tvalid_0's binary_logloss: 0.0353702\n",
            "[450]\tvalid_0's binary_logloss: 0.0353702\tvalid_0's binary_logloss: 0.0353702\n",
            "[451]\tvalid_0's binary_logloss: 0.0353702\tvalid_0's binary_logloss: 0.0353702\n",
            "[452]\tvalid_0's binary_logloss: 0.0353702\tvalid_0's binary_logloss: 0.0353702\n",
            "[453]\tvalid_0's binary_logloss: 0.0353702\tvalid_0's binary_logloss: 0.0353702\n",
            "[454]\tvalid_0's binary_logloss: 0.0353702\tvalid_0's binary_logloss: 0.0353702\n",
            "[455]\tvalid_0's binary_logloss: 0.0353702\tvalid_0's binary_logloss: 0.0353702\n",
            "[456]\tvalid_0's binary_logloss: 0.0353702\tvalid_0's binary_logloss: 0.0353702\n",
            "[457]\tvalid_0's binary_logloss: 0.0353702\tvalid_0's binary_logloss: 0.0353702\n",
            "[458]\tvalid_0's binary_logloss: 0.0353702\tvalid_0's binary_logloss: 0.0353702\n",
            "[459]\tvalid_0's binary_logloss: 0.0353702\tvalid_0's binary_logloss: 0.0353702\n",
            "[460]\tvalid_0's binary_logloss: 0.0353702\tvalid_0's binary_logloss: 0.0353702\n",
            "[461]\tvalid_0's binary_logloss: 0.0353702\tvalid_0's binary_logloss: 0.0353702\n",
            "[462]\tvalid_0's binary_logloss: 0.0353702\tvalid_0's binary_logloss: 0.0353702\n",
            "[463]\tvalid_0's binary_logloss: 0.0353702\tvalid_0's binary_logloss: 0.0353702\n",
            "[464]\tvalid_0's binary_logloss: 0.0353702\tvalid_0's binary_logloss: 0.0353702\n",
            "[465]\tvalid_0's binary_logloss: 0.0353702\tvalid_0's binary_logloss: 0.0353702\n",
            "[466]\tvalid_0's binary_logloss: 0.0353702\tvalid_0's binary_logloss: 0.0353702\n",
            "[467]\tvalid_0's binary_logloss: 0.0353702\tvalid_0's binary_logloss: 0.0353702\n",
            "[468]\tvalid_0's binary_logloss: 0.0353702\tvalid_0's binary_logloss: 0.0353702\n",
            "[469]\tvalid_0's binary_logloss: 0.0353702\tvalid_0's binary_logloss: 0.0353702\n",
            "[470]\tvalid_0's binary_logloss: 0.0353702\tvalid_0's binary_logloss: 0.0353702\n",
            "[471]\tvalid_0's binary_logloss: 0.0353702\tvalid_0's binary_logloss: 0.0353702\n",
            "[472]\tvalid_0's binary_logloss: 0.0353702\tvalid_0's binary_logloss: 0.0353702\n",
            "[473]\tvalid_0's binary_logloss: 0.0353702\tvalid_0's binary_logloss: 0.0353702\n",
            "[474]\tvalid_0's binary_logloss: 0.0353702\tvalid_0's binary_logloss: 0.0353702\n",
            "[475]\tvalid_0's binary_logloss: 0.0353702\tvalid_0's binary_logloss: 0.0353702\n",
            "[476]\tvalid_0's binary_logloss: 0.0353702\tvalid_0's binary_logloss: 0.0353702\n",
            "[477]\tvalid_0's binary_logloss: 0.0353702\tvalid_0's binary_logloss: 0.0353702\n",
            "[478]\tvalid_0's binary_logloss: 0.0353702\tvalid_0's binary_logloss: 0.0353702\n",
            "[479]\tvalid_0's binary_logloss: 0.0353702\tvalid_0's binary_logloss: 0.0353702\n",
            "[480]\tvalid_0's binary_logloss: 0.0353702\tvalid_0's binary_logloss: 0.0353702\n",
            "[481]\tvalid_0's binary_logloss: 0.0353702\tvalid_0's binary_logloss: 0.0353702\n",
            "[482]\tvalid_0's binary_logloss: 0.0353702\tvalid_0's binary_logloss: 0.0353702\n",
            "[483]\tvalid_0's binary_logloss: 0.0353702\tvalid_0's binary_logloss: 0.0353702\n",
            "[484]\tvalid_0's binary_logloss: 0.0353702\tvalid_0's binary_logloss: 0.0353702\n",
            "[485]\tvalid_0's binary_logloss: 0.0353702\tvalid_0's binary_logloss: 0.0353702\n",
            "[486]\tvalid_0's binary_logloss: 0.0353702\tvalid_0's binary_logloss: 0.0353702\n",
            "[487]\tvalid_0's binary_logloss: 0.0353702\tvalid_0's binary_logloss: 0.0353702\n",
            "[488]\tvalid_0's binary_logloss: 0.0353702\tvalid_0's binary_logloss: 0.0353702\n",
            "[489]\tvalid_0's binary_logloss: 0.0353702\tvalid_0's binary_logloss: 0.0353702\n",
            "[490]\tvalid_0's binary_logloss: 0.0353702\tvalid_0's binary_logloss: 0.0353702\n",
            "[491]\tvalid_0's binary_logloss: 0.0353702\tvalid_0's binary_logloss: 0.0353702\n",
            "[492]\tvalid_0's binary_logloss: 0.0353702\tvalid_0's binary_logloss: 0.0353702\n",
            "[493]\tvalid_0's binary_logloss: 0.0353702\tvalid_0's binary_logloss: 0.0353702\n",
            "[494]\tvalid_0's binary_logloss: 0.0353702\tvalid_0's binary_logloss: 0.0353702\n",
            "[495]\tvalid_0's binary_logloss: 0.0353702\tvalid_0's binary_logloss: 0.0353702\n",
            "[496]\tvalid_0's binary_logloss: 0.0353702\tvalid_0's binary_logloss: 0.0353702\n",
            "[497]\tvalid_0's binary_logloss: 0.0353702\tvalid_0's binary_logloss: 0.0353702\n",
            "[498]\tvalid_0's binary_logloss: 0.0353702\tvalid_0's binary_logloss: 0.0353702\n",
            "[499]\tvalid_0's binary_logloss: 0.0353702\tvalid_0's binary_logloss: 0.0353702\n",
            "[500]\tvalid_0's binary_logloss: 0.0353702\tvalid_0's binary_logloss: 0.0353702\n",
            "Did not meet early stopping. Best iteration is:\n",
            "[427]\tvalid_0's binary_logloss: 0.0350867\tvalid_0's binary_logloss: 0.0350867\n"
          ],
          "name": "stdout"
        },
        {
          "output_type": "execute_result",
          "data": {
            "text/plain": [
              "LGBMClassifier(boosting_type='gbdt', class_weight=None, colsample_bytree=1.0,\n",
              "               importance_type='split', learning_rate=0.1, max_depth=-1,\n",
              "               min_child_samples=20, min_child_weight=0.001, min_split_gain=0.0,\n",
              "               n_estimators=500, n_jobs=-1, num_leaves=31, objective=None,\n",
              "               random_state=42, reg_alpha=0.0, reg_lambda=0.0, silent=True,\n",
              "               subsample=1.0, subsample_for_bin=200000, subsample_freq=0)"
            ]
          },
          "metadata": {
            "tags": []
          },
          "execution_count": 114
        }
      ]
    },
    {
      "cell_type": "code",
      "metadata": {
        "id": "a0e7F5vQBTXo",
        "colab_type": "code",
        "colab": {
          "base_uri": "https://localhost:8080/",
          "height": 295
        },
        "outputId": "737d273b-d277-4bbd-aa61-c0cfe143d675"
      },
      "source": [
        "plot_importance(lgb)\n",
        "plt.yticks(range(len(col_names)),col_names)\n",
        "plt.show()"
      ],
      "execution_count": null,
      "outputs": [
        {
          "output_type": "display_data",
          "data": {
            "image/png": "[encoded data removed]",
            "text/plain": [
              "<Figure size 432x288 with 1 Axes>"
            ]
          },
          "metadata": {
            "tags": [],
            "needs_background": "light"
          }
        }
      ]
    },
    {
      "cell_type": "code",
      "metadata": {
        "id": "iQ_rGO3yBTUx",
        "colab_type": "code",
        "colab": {
          "base_uri": "https://localhost:8080/",
          "height": 379
        },
        "outputId": "065b7442-11be-4a3d-cf18-37c9909f374b"
      },
      "source": [
        "lb =LGBMClassifier()\n",
        "param_grid={\n",
        "    'max_depth':[4,6,8,10,12],\n",
        "    'n_estimators':[50,100],\n",
        "    'learning_rate':[0.01,0.05,0.1,0.15]}\n",
        "lgb=GridSearchCV(lb,param_grid=param_grid,cv=5,scoring='accuracy',n_jobs=1)\n",
        "lgb.fit(X_train,y_train)"
      ],
      "execution_count": null,
      "outputs": [
        {
          "output_type": "execute_result",
          "data": {
            "text/plain": [
              "GridSearchCV(cv=5, error_score=nan,\n",
              "             estimator=LGBMClassifier(boosting_type='gbdt', class_weight=None,\n",
              "                                      colsample_bytree=1.0,\n",
              "                                      importance_type='split',\n",
              "                                      learning_rate=0.1, max_depth=-1,\n",
              "                                      min_child_samples=20,\n",
              "                                      min_child_weight=0.001,\n",
              "                                      min_split_gain=0.0, n_estimators=100,\n",
              "                                      n_jobs=-1, num_leaves=31, objective=None,\n",
              "                                      random_state=None, reg_alpha=0.0,\n",
              "                                      reg_lambda=0.0, silent=True,\n",
              "                                      subsample=1.0, subsample_for_bin=200000,\n",
              "                                      subsample_freq=0),\n",
              "             iid='deprecated', n_jobs=1,\n",
              "             param_grid={'learning_rate': [0.01, 0.05, 0.1, 0.15],\n",
              "                         'max_depth': [4, 6, 8, 10, 12],\n",
              "                         'n_estimators': [50, 100]},\n",
              "             pre_dispatch='2*n_jobs', refit=True, return_train_score=False,\n",
              "             scoring='accuracy', verbose=0)"
            ]
          },
          "metadata": {
            "tags": []
          },
          "execution_count": 121
        }
      ]
    },
    {
      "cell_type": "code",
      "metadata": {
        "id": "3pCymp_nBTTA",
        "colab_type": "code",
        "colab": {
          "base_uri": "https://localhost:8080/",
          "height": 53
        },
        "outputId": "e396a07c-5e3e-4f82-dd54-a897af83cd2a"
      },
      "source": [
        "print('final params',lgb.best_params_)\n",
        "print('best score',lgb.best_score_)"
      ],
      "execution_count": null,
      "outputs": [
        {
          "output_type": "stream",
          "text": [
            "final params {'learning_rate': 0.1, 'max_depth': 10, 'n_estimators': 100}\n",
            "best score 0.9741997264021889\n"
          ],
          "name": "stdout"
        }
      ]
    },
    {
      "cell_type": "code",
      "metadata": {
        "id": "mqpul8oTBTO9",
        "colab_type": "code",
        "colab": {}
      },
      "source": [
        "cv_result_df=pd.DataFrame(lgb_cv)"
      ],
      "execution_count": null,
      "outputs": []
    }
  ]
}