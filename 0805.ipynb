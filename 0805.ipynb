{
 "cells": [
  {
   "cell_type": "markdown",
   "metadata": {},
   "source": [
    "# 실습1"
   ]
  },
  {
   "cell_type": "code",
   "execution_count": 24,
   "metadata": {},
   "outputs": [
    {
     "name": "stdout",
     "output_type": "stream",
     "text": [
      "enter start and end number>>11 13\n",
      "11 12 13 \n",
      "12 13 14 \n",
      "13 14 15 \n"
     ]
    }
   ],
   "source": [
    "def printn(s,e):\n",
    "    for n in range(s,e+1):\n",
    "        for ss in range(n,n+(e-s+1)):\n",
    "            print(ss,end=\" \")\n",
    "        print()\n",
    "if __name__==\"__main__\":\n",
    "    s,e=map(int,input(\"enter start and end number>>\").split())\n",
    "    printn(s,e)"
   ]
  },
  {
   "cell_type": "markdown",
   "metadata": {},
   "source": [
    "# 실습2"
   ]
  },
  {
   "cell_type": "code",
   "execution_count": 27,
   "metadata": {},
   "outputs": [
    {
     "name": "stdout",
     "output_type": "stream",
     "text": [
      "enter a number>>3\n",
      "★★★\n",
      "★★\n",
      "★\n",
      "★\n",
      "★★\n",
      "★★★\n"
     ]
    }
   ],
   "source": [
    "def star_f(n):\n",
    "    for i in range(n,0,-1):\n",
    "        print('\\u2605'*i)\n",
    "    for i in range(1,n+1):\n",
    "        print('\\u2605'*i)\n",
    "if __name__==\"__main__\":\n",
    "    n=int(input(\"enter a number>>\"))\n",
    "    star_f(n)"
   ]
  },
  {
   "cell_type": "markdown",
   "metadata": {},
   "source": [
    "# 실습2-1\n",
    "피라미드"
   ]
  },
  {
   "cell_type": "code",
   "execution_count": 89,
   "metadata": {},
   "outputs": [
    {
     "name": "stdout",
     "output_type": "stream",
     "text": [
      "enter a number>>3\n",
      "      ★\n",
      "  ★★★\n",
      "★★★★★\n"
     ]
    }
   ],
   "source": [
    "def star_f2(n):\n",
    "    for i in range(1,n*2,2):\n",
    "        if i<=n:\n",
    "            print((' '*()+('\\u2605'*i))\n",
    "        else:\n",
    "            print('\\u2605'*i)\n",
    "#     for i in range(1+n+1):\n",
    "#         print((' '*(n-i))+('\\u2605'*((2*i)-n)))\n",
    "if __name__==\"__main__\":\n",
    "    n=int(input(\"enter a number>>\"))\n",
    "    star_f2(n)"
   ]
  },
  {
   "cell_type": "markdown",
   "metadata": {},
   "source": [
    "# 실습2-2"
   ]
  },
  {
   "cell_type": "code",
   "execution_count": 62,
   "metadata": {},
   "outputs": [
    {
     "name": "stdout",
     "output_type": "stream",
     "text": [
      "enter a number>>3\n",
      "A B C \n",
      "A B \n",
      "A \n"
     ]
    }
   ],
   "source": [
    "def alpapyramid(n):\n",
    "    a=65\n",
    "    for j in range(n):\n",
    "        for i in range(n,j,-1):\n",
    "            print(chr(a),end=\" \")\n",
    "            a+=1\n",
    "        a=65\n",
    "        print()\n",
    "if __name__==\"__main__\":\n",
    "    n=int(input(\"enter a number>>\"))\n",
    "    alpapyramid(n)"
   ]
  },
  {
   "cell_type": "markdown",
   "metadata": {},
   "source": [
    "#### (참고)"
   ]
  },
  {
   "cell_type": "code",
   "execution_count": 69,
   "metadata": {},
   "outputs": [
    {
     "name": "stdout",
     "output_type": "stream",
     "text": [
      "A B C \n",
      "A B \n",
      "A \n"
     ]
    }
   ],
   "source": [
    "a=65\n",
    "for i in range(n,0,-1):\n",
    "    for j in range(i):\n",
    "        print(chr(a+j),end=\" \")\n",
    "    print()"
   ]
  },
  {
   "cell_type": "markdown",
   "metadata": {},
   "source": [
    "# 실습2-3"
   ]
  },
  {
   "cell_type": "code",
   "execution_count": 83,
   "metadata": {},
   "outputs": [
    {
     "name": "stdout",
     "output_type": "stream",
     "text": [
      "enter a number>>7\n",
      "A \n",
      "A B \n",
      "A B C \n",
      "A B C D \n",
      "A B C D E \n",
      "A B C D E F \n",
      "A B C D E F G \n"
     ]
    }
   ],
   "source": [
    "def alpapyramid2(n):\n",
    "    a=65\n",
    "    for i in range(1,n+1):\n",
    "        for j in range(i):\n",
    "            print(chr(a+j),end=\" \")\n",
    "        print()\n",
    "\n",
    "if __name__==\"__main__\":\n",
    "    n=int(input(\"enter a number>>\"))\n",
    "    alpapyramid2(n)"
   ]
  },
  {
   "cell_type": "markdown",
   "metadata": {},
   "source": [
    "# 이산확률 관련 함수 : lea 모듈"
   ]
  },
  {
   "cell_type": "code",
   "execution_count": 16,
   "metadata": {},
   "outputs": [],
   "source": [
    "from lea import leaf\n",
    "import lea\n",
    "import numpy as np\n",
    "import pandas as pd\n",
    "import matplotlib.pyplot as plt\n",
    "import random\n",
    "import seaborn as sns"
   ]
  },
  {
   "cell_type": "markdown",
   "metadata": {},
   "source": [
    "- 주사위 한 번 던지고, 출력은 분수로"
   ]
  },
  {
   "cell_type": "code",
   "execution_count": 104,
   "metadata": {},
   "outputs": [
    {
     "data": {
      "text/plain": [
       "1 : 1/6\n",
       "2 : 1/6\n",
       "3 : 1/6\n",
       "4 : 1/6\n",
       "5 : 1/6\n",
       "6 : 1/6"
      ]
     },
     "execution_count": 104,
     "metadata": {},
     "output_type": "execute_result"
    }
   ],
   "source": [
    "leaf.dice(1,prob_type='r')"
   ]
  },
  {
   "cell_type": "code",
   "execution_count": 111,
   "metadata": {},
   "outputs": [
    {
     "name": "stdout",
     "output_type": "stream",
     "text": [
      "1 : 1/6\n",
      "2 : 1/6\n",
      "3 : 1/6\n",
      "4 : 1/6\n",
      "5 : 1/6\n",
      "6 : 1/6\n",
      "확률변수:(1, 2, 3, 4, 5, 6), 각 확률:(1/6, 1/6, 1/6, 1/6, 1/6, 1/6),모든 확률 합:1\n"
     ]
    }
   ],
   "source": [
    "dice= leaf.dice(1,prob_type='r')\n",
    "print(dice)\n",
    "\n",
    "X=dice.support\n",
    "p_x=dice.ps\n",
    "x_sum=dice.p_sum\n",
    "print(f'확률변수:{X}, 각 확률:{p_x},모든 확률 합:{x_sum}')"
   ]
  },
  {
   "cell_type": "code",
   "execution_count": 121,
   "metadata": {},
   "outputs": [
    {
     "name": "stdout",
     "output_type": "stream",
     "text": [
      "<class 'pandas.core.frame.DataFrame'>\n",
      "Int64Index: 6 entries, 1 to 6\n",
      "Data columns (total 1 columns):\n",
      " #   Column   Non-Null Count  Dtype \n",
      "---  ------   --------------  ----- \n",
      " 0   f(dice)  6 non-null      object\n",
      "dtypes: object(1)\n",
      "memory usage: 96.0+ bytes\n",
      "None\n",
      "\n",
      "<class 'pandas.core.frame.DataFrame'>\n",
      "Index: 1 entries, f(dice) to f(dice)\n",
      "Data columns (total 6 columns):\n",
      " #   Column  Non-Null Count  Dtype \n",
      "---  ------  --------------  ----- \n",
      " 0   1       1 non-null      object\n",
      " 1   2       1 non-null      object\n",
      " 2   3       1 non-null      object\n",
      " 3   4       1 non-null      object\n",
      " 4   5       1 non-null      object\n",
      " 5   6       1 non-null      object\n",
      "dtypes: object(6)\n",
      "memory usage: 136.0+ bytes\n",
      "None\n",
      "           1    2    3    4    5    6\n",
      "f(dice)  1/6  1/6  1/6  1/6  1/6  1/6\n",
      "\n",
      "x:(5,),p:1/6\n"
     ]
    },
    {
     "data": {
      "image/png": "[encoded data removed]",
      "text/plain": [
       "<Figure size 432x288 with 1 Axes>"
      ]
     },
     "metadata": {
      "needs_background": "light"
     },
     "output_type": "display_data"
    }
   ],
   "source": [
    "pt=pd.DataFrame(dice.ps,index=dice.support,columns=['f(dice)'])\n",
    "print(pt.info())\n",
    "print()\n",
    "\n",
    "pt_t=pt.T\n",
    "print(pt_t.info())\n",
    "print(pt_t)\n",
    "print()\n",
    "\n",
    "x=dice.random_draw(1)\n",
    "p=dice.p(x[0])\n",
    "print(f'x:{x},p:{p}')\n",
    "dice.plot()\n",
    "plt.show()"
   ]
  },
  {
   "cell_type": "markdown",
   "metadata": {},
   "source": [
    "## 이산분표를 생성하는 함수 : vals(), pmf()"
   ]
  },
  {
   "cell_type": "code",
   "execution_count": 125,
   "metadata": {},
   "outputs": [
    {
     "name": "stdout",
     "output_type": "stream",
     "text": [
      "A : 1/6\n",
      "B : 2/6\n",
      "C : 3/6 \n",
      " 1\n"
     ]
    },
    {
     "data": {
      "image/png": "[encoded data removed]",
      "text/plain": [
       "<Figure size 432x288 with 1 Axes>"
      ]
     },
     "metadata": {
      "needs_background": "light"
     },
     "output_type": "display_data"
    }
   ],
   "source": [
    "symbol =lea.vals('A','B','B','C','C','C',prob_type='r')\n",
    "print(symbol,'\\n',symbol.p_sum)\n",
    "symbol.plot()"
   ]
  },
  {
   "cell_type": "code",
   "execution_count": 126,
   "metadata": {},
   "outputs": [
    {
     "name": "stdout",
     "output_type": "stream",
     "text": [
      "A : 0.16666666666666666\n",
      "B : 0.3333333333333333\n",
      "C : 0.5 \n",
      " 1.0\n"
     ]
    },
    {
     "data": {
      "image/png": "[encoded data removed]",
      "text/plain": [
       "<Figure size 432x288 with 1 Axes>"
      ]
     },
     "metadata": {
      "needs_background": "light"
     },
     "output_type": "display_data"
    }
   ],
   "source": [
    "symbol2=lea.pmf({'A':1,'B':2,'C':3})\n",
    "print(symbol2,'\\n',symbol2.p_sum)\n",
    "symbol2.plot()"
   ]
  },
  {
   "cell_type": "markdown",
   "metadata": {},
   "source": [
    "- 동전의 앞,뒤를 처리하는 이산확률을 생성하고 확률 분포표를 작성"
   ]
  },
  {
   "cell_type": "code",
   "execution_count": 128,
   "metadata": {},
   "outputs": [
    {
     "name": "stdout",
     "output_type": "stream",
     "text": [
      "O : 0.5\n",
      "X : 0.5 \n",
      " 1.0\n"
     ]
    },
    {
     "data": {
      "image/png": "[encoded data removed]",
      "text/plain": [
       "<Figure size 432x288 with 1 Axes>"
      ]
     },
     "metadata": {
      "needs_background": "light"
     },
     "output_type": "display_data"
    }
   ],
   "source": [
    "coin=lea.pmf({'O':1,'X':1})\n",
    "print(coin,'\\n',coin.p_sum)\n",
    "coin.plot()"
   ]
  },
  {
   "cell_type": "code",
   "execution_count": 130,
   "metadata": {},
   "outputs": [
    {
     "name": "stdout",
     "output_type": "stream",
     "text": [
      "1/2 1/2\n",
      "        H    T\n",
      "coin  1/2  1/2\n"
     ]
    }
   ],
   "source": [
    "flip =lea.vals('H','T',prob_type='r')\n",
    "p1=flip.p('T')#'flip변수에 저장되어 있는 T'가 나올 확률 \n",
    "p2=lea.P(flip =='T')\n",
    "print(p1,p1)\n",
    "\n",
    "df=pd.DataFrame(flip.ps,index=flip.support,columns=['coin'])\n",
    "print(df.T)"
   ]
  },
  {
   "cell_type": "markdown",
   "metadata": {},
   "source": [
    "## 임의로 동전을 던질때의 확률\n",
    "+ random 모듈의 seed 함수 이용\n",
    "+ leadml random 함수 이용"
   ]
  },
  {
   "cell_type": "markdown",
   "metadata": {},
   "source": [
    "- 동전 5번 던진후 랜덤하게 발생된 사건에 대한 확률"
   ]
  },
  {
   "cell_type": "code",
   "execution_count": 179,
   "metadata": {
    "scrolled": true
   },
   "outputs": [
    {
     "name": "stdout",
     "output_type": "stream",
     "text": [
      "H : 1/2\n",
      "T : 1/2\n",
      "('H', 'T', 'T', 'H', 'H')\n",
      "3/5\n"
     ]
    }
   ],
   "source": [
    "# random.seed(7777) #seed값을 고정,이 코드가 없으면 계속 달라짐\n",
    "flip =lea.vals('H','T',prob_type='r')\n",
    "print(flip)\n",
    "\n",
    "temp=flip.random(5)#언패킹\n",
    "print(temp)\n",
    "\n",
    "flip2 =lea.vals(*temp, prob_type='r')\n",
    "\n",
    "b=lea.P(flip2=='H')\n",
    "print(b)"
   ]
  },
  {
   "cell_type": "markdown",
   "metadata": {},
   "source": [
    "# 조건부 확률  \n",
    "- 사상 A가 알려진 상황 -> 사상 B가 일어날 확률 P(B|A)      \n",
    "\n",
    "- given(), interval()"
   ]
  },
  {
   "cell_type": "markdown",
   "metadata": {},
   "source": [
    "- 주사위를 던져서 짝수가 나올 확률, 그중에 4가 나올 확률? P(4|짝)"
   ]
  },
  {
   "cell_type": "code",
   "execution_count": 182,
   "metadata": {},
   "outputs": [
    {
     "name": "stdout",
     "output_type": "stream",
     "text": [
      "1/2\n",
      "1/2\n",
      "1/3\n"
     ]
    }
   ],
   "source": [
    "dice = leaf.dice(1,prob_type='r')\n",
    "b=lea.P((dice==2)|(dice==4)|(dice==6))# 2,4,6가 나올 확률\n",
    "print(b)\n",
    "\n",
    "c=lea.P(dice%2==0)#짝수가 나올 확률\n",
    "print(c)\n",
    "\n",
    "#조건부 확률\n",
    "d=dice.given((dice%2==0)).p(4)\n",
    "print(d)"
   ]
  },
  {
   "cell_type": "code",
   "execution_count": 186,
   "metadata": {
    "scrolled": true
   },
   "outputs": [
    {
     "data": {
      "text/plain": [
       "1 : 1/6\n",
       "2 : 1/6\n",
       "3 : 1/6\n",
       "4 : 1/6\n",
       "5 : 1/6\n",
       "6 : 1/6"
      ]
     },
     "execution_count": 186,
     "metadata": {},
     "output_type": "execute_result"
    }
   ],
   "source": [
    "dice1=lea.interval(1,6,prob_type='r')\n",
    "dice1"
   ]
  },
  {
   "cell_type": "code",
   "execution_count": 190,
   "metadata": {},
   "outputs": [
    {
     "name": "stdout",
     "output_type": "stream",
     "text": [
      "    dice joint\n",
      "1 1       1/36\n",
      "  2       1/36\n",
      "  3       1/36\n",
      "  4       1/36\n",
      "  5       1/36\n",
      "  6       1/36\n",
      "2 1       1/36\n",
      "  2       1/36\n",
      "  3       1/36\n",
      "  4       1/36\n",
      "  5       1/36\n",
      "  6       1/36\n",
      "3 1       1/36\n",
      "  2       1/36\n",
      "  3       1/36\n",
      "  4       1/36\n",
      "  5       1/36\n",
      "  6       1/36\n",
      "4 1       1/36\n",
      "  2       1/36\n",
      "  3       1/36\n",
      "  4       1/36\n",
      "  5       1/36\n",
      "  6       1/36\n",
      "5 1       1/36\n",
      "  2       1/36\n",
      "  3       1/36\n",
      "  4       1/36\n",
      "  5       1/36\n",
      "  6       1/36\n",
      "6 1       1/36\n",
      "  2       1/36\n",
      "  3       1/36\n",
      "  4       1/36\n",
      "  5       1/36\n",
      "  6       1/36\n",
      "               1                                   2                    ...  \\\n",
      "               1     2     3     4     5     6     1     2     3     4  ...   \n",
      "dice joint  1/36  1/36  1/36  1/36  1/36  1/36  1/36  1/36  1/36  1/36  ...   \n",
      "\n",
      "               5                       6                                \n",
      "               3     4     5     6     1     2     3     4     5     6  \n",
      "dice joint  1/36  1/36  1/36  1/36  1/36  1/36  1/36  1/36  1/36  1/36  \n",
      "\n",
      "[1 rows x 36 columns]\n"
     ]
    }
   ],
   "source": [
    "dice1=lea.interval(1,6,prob_type='r')\n",
    "dice2=dice1.new()\n",
    "dice3=lea.joint(dice1,dice2)\n",
    "df=pd.DataFrame(dice3.ps,index=dice3.support,columns=['dice joint'])\n",
    "print(df)\n",
    "print(df.T)"
   ]
  },
  {
   "cell_type": "code",
   "execution_count": 189,
   "metadata": {},
   "outputs": [
    {
     "name": "stdout",
     "output_type": "stream",
     "text": [
      "(1, 1) : 1/12\n",
      "(1, 2) : 1/12\n",
      "(1, 3) : 1/12\n",
      "(1, 4) : 1/12\n",
      "(1, 5) : 1/12\n",
      "(1, 6) : 1/12\n",
      "(2, 1) : 1/12\n",
      "(2, 2) : 1/12\n",
      "(2, 3) : 1/12\n",
      "(2, 4) : 1/12\n",
      "(2, 5) : 1/12\n",
      "(2, 6) : 1/12\n"
     ]
    }
   ],
   "source": [
    "#첫번째 주사위가 2보다 작은수가 나오는 조건부 확률\n",
    "print(dice3.given(dice1<=2))"
   ]
  },
  {
   "cell_type": "markdown",
   "metadata": {},
   "source": [
    "# 조건부 확률 예제"
   ]
  },
  {
   "cell_type": "markdown",
   "metadata": {},
   "source": [
    "### 예제 1   \n",
    "   - 두봉지의 별사탕을 하나의 접시에 담고, 별사탕하나를 꺼냈더니, 분홍색이\n",
    "    나왔다. 이때 이 별사탕이 첫번째 봉지에서 나왔을 확률은?   \n",
    "A = 하얀별사탕   \n",
    "B = 분홍별사탕   \n",
    "F = 첫번째 봉지   \n",
    "S = 두번째 봉지\n",
    " \n",
    "    P(F|B)?  \n",
    "    P(F) \\* P(B|F) / P(B)   \n",
    "    1/2 \\* 3/4 / (3/8+2/8) = 3/5 = 60%\n"
   ]
  },
  {
   "cell_type": "markdown",
   "metadata": {},
   "source": [
    "###  예제 2  \n",
    "   - 폐암 확률과 진단 시약과의 조건부 확률 계산    \n",
    "   -C 지역과 J 지역에서 평생 1백명 가운데 1명이 폐암에 걸려 사망    \n",
    "   -해당 지역 주민 한명이 폐암일 경우 진단 시약에서 99%의 양성반응을 보임     \n",
    "   -진단 시약에서 양성반응이 나왔을 경우 폐암일 확률은?      \n",
    "   L = 폐암, P(L) = 폐암확률 0.01   \n",
    "   p = 양성반응   \n",
    "   P(p|L) = 0.99   \n",
    "   \n",
    "   P(L|p) ?\n",
    "   P(L|p) = P(L) \\* P(p|L) / P(p)\n",
    "\n",
    "    C와 J 지역의 모든 주민 대상으로 양성이 나올 확률    \n",
    "    P(p) = P(p|Lc) \\* P(Lc) + P(p|L) \\* P(L)\n",
    "        = 0.01 \\* 0.99 + 0.99 \\* 0.01 = 0.0198 = 약 2%    \n",
    "    P(L|p) = 0.01 \\* 0.99 / 0.02 = 0.495"
   ]
  },
  {
   "cell_type": "markdown",
   "metadata": {},
   "source": [
    "###  예제3  \n",
    "- 몬티홀(Monty Hall) 문제\n",
    "    세 개 색상(빨강,노랑,파랑) 3개의 문이 있고, 이 중 하나만 상품이 있음\n",
    "    사용자는 단 하나의 문만 선택할 수 있으며,하나의 문을 선택 시 사회자는 나머지 두 문 중 하나를 열어 보여 상품이 없음을 보여 줌(사회자는 상품이 들어있는 문을 알고 있음)\n",
    "    이 후에 사회자는 사용자에게 문을 바꿀 수 있는 선택을 기회를 줌\n",
    "    이 경우, 사용자는 선택한 문을 유지하는 것이 유리할지, 바꾸는 것이 유리할지 확률값을 이용하여 결정\n",
    "    \n",
    "    R : 빨강문\n",
    "Y : 노랑문\n",
    "B : 파랑문  \n",
    "P(컬러) : 컬러문에 상품이 있을 확률  \n",
    "P(R) = P(Y) = P(B) = 1/3  \n",
    "진행자는 2개 중 하나의 선택이므로 1/2  \n",
    "\n",
    "    사용자가 R 선택 후 사회자가 상품이 없는 Y의 문을 열어 보여줌   \n",
    "R 유지 시 상품 당첨 확률? -> 1/3  \n",
    "B로 변경 시 상품 당첨 확률?   \n",
    "P(B|Y) = P(B) \\* P(Y|B) / P(Y)= 1/3 * 1/0.5 = 2/3"
   ]
  },
  {
   "cell_type": "markdown",
   "metadata": {},
   "source": [
    "# 베이즈 정리\n",
    "- 의사결정과정, 사건들의 관계 분석을 위해 활용\n",
    "- 사전적 확률 정보를 이용 -> 사후적 확률을 예측하는 이론\n",
    "- 메카니즘  \n",
    "    사전적 확률 P(B),P(A|B)-> (추가 정보 : 사건 A 가 발생) -> 사후적 확률 P(B|A) "
   ]
  },
  {
   "cell_type": "markdown",
   "metadata": {},
   "source": [
    "### 예제\n",
    "- 두 개의 공장에서 노트북 생산 수원공장(30%), 아산공장(70%)  \n",
    "    수원공장에서 발생하는 불량률은 0.02, 아산공장은 0.03  \n",
    "    제품 중에서 불량품이 발견되었다면 아산공장에서 생산된 확률은?    \n",
    "    \n",
    "    P(A) : 수원공장의 생산 확률, 0.3  \n",
    "    P(B) : 아산공장의 생산 확률, 0.7  \n",
    "    P(Q) : 노트북 불량률  \n",
    "    P(Q|A) : 0.02, P(Q|B ) : 0.03  \n",
    "    P(B|Q) ?  \n",
    "    \n",
    "    P(B|Q) = P(B 교집합 Q) / P(Q)   \n",
    "    = P(B) P(Q|B) / P(Q)    \n",
    "    = 0.7 \\* 0.03 / (0.02+0.03)   \n",
    "    = 0.42"
   ]
  },
  {
   "cell_type": "markdown",
   "metadata": {},
   "source": [
    "### 베이즈 정리 python 코드\n",
    "- 바구니1에는 노랑사탕 30개, 빨강사탕 10개,   \n",
    "    바구니2에는 노랑사탕과 빨강사탕 각 20개가 들어있음  \n",
    "    1개를 선택 시 노랑사탕이 나왔을 때, 이 사탕이 바구니1에서 나왔을 확률?  \n",
    "    \n",
    "    전체 사탕에 대한 확률 생성,   \n",
    "    전체 사탕은 80개로 노랑사탕은 50/80 -> 5/8"
   ]
  },
  {
   "cell_type": "code",
   "execution_count": 4,
   "metadata": {},
   "outputs": [
    {
     "data": {
      "text/plain": [
       "5/8"
      ]
     },
     "execution_count": 4,
     "metadata": {},
     "output_type": "execute_result"
    }
   ],
   "source": [
    "candy = lea.pmf({'Y':50, 'R':30}, prob_type='r')\n",
    "candy.p('Y') "
   ]
  },
  {
   "cell_type": "code",
   "execution_count": 2,
   "metadata": {},
   "outputs": [
    {
     "name": "stdout",
     "output_type": "stream",
     "text": [
      "basket_1 : 1/2\n",
      "basket_2 : 1/2\n",
      "R : 1/4\n",
      "Y : 3/4\n",
      "       basket_1 basket_2\n",
      "yellow      1/4      1/2\n",
      "red         3/4      1/2\n"
     ]
    },
    {
     "data": {
      "text/plain": [
       "<matplotlib.axes._subplots.AxesSubplot at 0x1b9ff241f08>"
      ]
     },
     "execution_count": 2,
     "metadata": {},
     "output_type": "execute_result"
    },
    {
     "data": {
      "image/png": "[encoded data removed]",
      "text/plain": [
       "<Figure size 432x288 with 1 Axes>"
      ]
     },
     "metadata": {
      "needs_background": "light"
     },
     "output_type": "display_data"
    }
   ],
   "source": [
    "basket1 = lea.vals(\"basket_1\",\"basket_2\",prob_type='r')\n",
    "print(basket1)\n",
    "basket1.p('basket_1')\n",
    "basket_1 = lea.pmf({'Y':30,'R':10},prob_type='r')\n",
    "print(basket_1)\n",
    "basket_2 = lea.pmf({'Y':20,'R':20},prob_type='r')\n",
    "\n",
    "#확률분포 생성\n",
    "data = {'basket_1':basket_1.ps, 'basket_2':basket_2.ps}\n",
    "df = pd.DataFrame(data, index=['yellow','red'])\n",
    "print(df)\n",
    "\n",
    "#bar chart 로 표현할 때, 유리수는 처리못하므로 실수로 변경\n",
    "df_ = df.astype('float')\n",
    "df_.plot(kind='bar')"
   ]
  },
  {
   "cell_type": "markdown",
   "metadata": {},
   "source": [
    "# 회귀분석\n",
    "- 모형을 이용하여 관심 대상 변수의 값을 예측 또는 모형의 신뢰성을 추론하는 통계적 기법\n"
   ]
  },
  {
   "cell_type": "markdown",
   "metadata": {},
   "source": [
    "- 종속변수(dependent variable), 반응변수(response variable), y    \n",
    "    모형에서 다른 변수들의 영향을 받는다고 가정되는 변수\n",
    "- 독립변수(independent variable), 예측변수(predictor variable), x    \n",
    "    다른 변수에 영향을 미치거나, 실험자에 의해 통제되는 변수"
   ]
  },
  {
   "cell_type": "markdown",
   "metadata": {},
   "source": [
    "- 자세한 내용은 파일 참고 "
   ]
  },
  {
   "cell_type": "markdown",
   "metadata": {},
   "source": [
    "## 단순 회귀분석 예제1 - 지도학습\n",
    "### -  자동차 연비 데이터셋을 이용한 단순회귀 분석"
   ]
  },
  {
   "cell_type": "markdown",
   "metadata": {},
   "source": [
    "### 1. 데이터 불러오기"
   ]
  },
  {
   "cell_type": "code",
   "execution_count": 10,
   "metadata": {},
   "outputs": [],
   "source": [
    "file_path = '../Downloads/auto-mpg.csv'\n",
    "df = pd.read_csv(file_path, header=None)#columns이 없이 첫줄부터 데이터인경우\n",
    "df.columns =['mpg','cylinders','displacement','horsepower','weight','acceleration',\n",
    "'model year','origin','name']\n",
    "pd.set_option('display.max_column', 9)#column 갯수 조정"
   ]
  },
  {
   "cell_type": "markdown",
   "metadata": {},
   "source": [
    "### 2-1. 데이터 확인\n",
    "- 'horsepower'가 수치형이 아닌 'object'인 점 확인"
   ]
  },
  {
   "cell_type": "code",
   "execution_count": 11,
   "metadata": {},
   "outputs": [
    {
     "name": "stdout",
     "output_type": "stream",
     "text": [
      "<class 'pandas.core.frame.DataFrame'>\n",
      "RangeIndex: 398 entries, 0 to 397\n",
      "Data columns (total 9 columns):\n",
      " #   Column        Non-Null Count  Dtype  \n",
      "---  ------        --------------  -----  \n",
      " 0   mpg           398 non-null    float64\n",
      " 1   cylinders     398 non-null    int64  \n",
      " 2   displacement  398 non-null    float64\n",
      " 3   horsepower    398 non-null    object \n",
      " 4   weight        398 non-null    float64\n",
      " 5   acceleration  398 non-null    float64\n",
      " 6   model year    398 non-null    int64  \n",
      " 7   origin        398 non-null    int64  \n",
      " 8   name          398 non-null    object \n",
      "dtypes: float64(4), int64(3), object(2)\n",
      "memory usage: 28.1+ KB\n",
      "None\n",
      "\n",
      "              mpg   cylinders  displacement       weight  acceleration  \\\n",
      "count  398.000000  398.000000    398.000000   398.000000    398.000000   \n",
      "mean    23.514573    5.454774    193.425879  2970.424623     15.568090   \n",
      "std      7.815984    1.701004    104.269838   846.841774      2.757689   \n",
      "min      9.000000    3.000000     68.000000  1613.000000      8.000000   \n",
      "25%     17.500000    4.000000    104.250000  2223.750000     13.825000   \n",
      "50%     23.000000    4.000000    148.500000  2803.500000     15.500000   \n",
      "75%     29.000000    8.000000    262.000000  3608.000000     17.175000   \n",
      "max     46.600000    8.000000    455.000000  5140.000000     24.800000   \n",
      "\n",
      "       model year      origin  \n",
      "count  398.000000  398.000000  \n",
      "mean    76.010050    1.572864  \n",
      "std      3.697627    0.802055  \n",
      "min     70.000000    1.000000  \n",
      "25%     73.000000    1.000000  \n",
      "50%     76.000000    1.000000  \n",
      "75%     79.000000    2.000000  \n",
      "max     82.000000    3.000000  \n",
      "\n"
     ]
    }
   ],
   "source": [
    "print(df.info())\n",
    "print()\n",
    "print(df.describe())\n",
    "print()"
   ]
  },
  {
   "cell_type": "markdown",
   "metadata": {},
   "source": [
    "### 2-2 데이터 고유 값 확인 : 이상치 발견\n",
    "- '?'가 있음"
   ]
  },
  {
   "cell_type": "code",
   "execution_count": 12,
   "metadata": {},
   "outputs": [
    {
     "name": "stdout",
     "output_type": "stream",
     "text": [
      "['130.0' '165.0' '150.0' '140.0' '198.0' '220.0' '215.0' '225.0' '190.0'\n",
      " '170.0' '160.0' '95.00' '97.00' '85.00' '88.00' '46.00' '87.00' '90.00'\n",
      " '113.0' '200.0' '210.0' '193.0' '?' '100.0' '105.0' '175.0' '153.0'\n",
      " '180.0' '110.0' '72.00' '86.00' '70.00' '76.00' '65.00' '69.00' '60.00'\n",
      " '80.00' '54.00' '208.0' '155.0' '112.0' '92.00' '145.0' '137.0' '158.0'\n",
      " '167.0' '94.00' '107.0' '230.0' '49.00' '75.00' '91.00' '122.0' '67.00'\n",
      " '83.00' '78.00' '52.00' '61.00' '93.00' '148.0' '129.0' '96.00' '71.00'\n",
      " '98.00' '115.0' '53.00' '81.00' '79.00' '120.0' '152.0' '102.0' '108.0'\n",
      " '68.00' '58.00' '149.0' '89.00' '63.00' '48.00' '66.00' '139.0' '103.0'\n",
      " '125.0' '133.0' '138.0' '135.0' '142.0' '77.00' '62.00' '132.0' '84.00'\n",
      " '64.00' '74.00' '116.0' '82.00']\n"
     ]
    }
   ],
   "source": [
    "print(df['horsepower'].unique())#열의 고유값 확인"
   ]
  },
  {
   "cell_type": "markdown",
   "metadata": {},
   "source": [
    "### 3. 전처리"
   ]
  },
  {
   "cell_type": "code",
   "execution_count": 32,
   "metadata": {},
   "outputs": [
    {
     "name": "stdout",
     "output_type": "stream",
     "text": [
      "              mpg   cylinders  displacement  horsepower       weight  \\\n",
      "count  392.000000  392.000000    392.000000  392.000000   392.000000   \n",
      "mean    23.445918    5.471939    194.411990  104.469388  2977.584184   \n",
      "std      7.805007    1.705783    104.644004   38.491160   849.402560   \n",
      "min      9.000000    3.000000     68.000000   46.000000  1613.000000   \n",
      "25%     17.000000    4.000000    105.000000   75.000000  2225.250000   \n",
      "50%     22.750000    4.000000    151.000000   93.500000  2803.500000   \n",
      "75%     29.000000    8.000000    275.750000  126.000000  3614.750000   \n",
      "max     46.600000    8.000000    455.000000  230.000000  5140.000000   \n",
      "\n",
      "       acceleration  model year      origin  \n",
      "count    392.000000  392.000000  392.000000  \n",
      "mean      15.541327   75.979592    1.576531  \n",
      "std        2.758864    3.683737    0.805518  \n",
      "min        8.000000   70.000000    1.000000  \n",
      "25%       13.775000   73.000000    1.000000  \n",
      "50%       15.500000   76.000000    1.000000  \n",
      "75%       17.025000   79.000000    2.000000  \n",
      "max       24.800000   82.000000    3.000000  \n"
     ]
    }
   ],
   "source": [
    "df['horsepower'].replace('?',np.nan,inplace=True)# 데이터 중 '?' 제거\n",
    "df.dropna(subset=['horsepower'],axis=0, inplace=True)#none이 있는 행 전체 drop\n",
    "df['horsepower'] = df['horsepower'].astype('float')#'float'로 형변환\n",
    "print(df.describe())"
   ]
  },
  {
   "cell_type": "markdown",
   "metadata": {},
   "source": [
    "### 4-1. 회귀 분석\n",
    "#### 단순회귀분석에 독립변수 및 종속변수로 사용될 후보열 선택\n",
    "- 종속변수는 자동차 연비인 mpg(mile/gallon)   \n",
    "    -어떤 관계가 있는지 궁금한 (분석하고 싶은) 컬럼을 종속변수로 두기\n",
    "- 독립변수는 cylinders, horsepower, weight 를 선택\n",
    "- 다중공선성 유무 확인"
   ]
  },
  {
   "cell_type": "markdown",
   "metadata": {},
   "source": [
    "### 4-2. 그래프 \n",
    "#### 선택된 독립변수 중 mpg와 선형관계가 있는지 그래프로 확인   \n",
    "- 단순회귀분석이므로 종속과 독립변수의 1:1 관계를 찾음      "
   ]
  },
  {
   "cell_type": "markdown",
   "metadata": {},
   "source": [
    "#### 시각화 모듈 \n",
    "- matplotlib.pyplot  \n",
    "- Seabon    \n",
    "    -sns.regplot    \n",
    "    -sns.jointplot : 두 변수의 히스토그램이 x,y축에 별도로 표시되는 특징이 있음     \n",
    "    -sns.pairplot : 두 변수간의 산점도를 그림. 단, 자기 자신과는 히스토다이어그램을 작성"
   ]
  },
  {
   "cell_type": "code",
   "execution_count": 14,
   "metadata": {},
   "outputs": [
    {
     "data": {
      "image/png": "[encoded data removed]",
      "text/plain": [
       "<Figure size 720x360 with 1 Axes>"
      ]
     },
     "metadata": {
      "needs_background": "light"
     },
     "output_type": "display_data"
    }
   ],
   "source": [
    "ndf = df[['mpg','cylinders','horsepower','weight']] #4개 컬럼만 추출\n",
    "ndf.plot(kind='scatter',x='weight',y='mpg',c='coral',s=15,figsize=(10,5))\n",
    "plt.show()\n",
    "plt.close()"
   ]
  },
  {
   "cell_type": "code",
   "execution_count": 29,
   "metadata": {},
   "outputs": [
    {
     "data": {
      "image/png": "[encoded data removed]",
      "text/plain": [
       "<Figure size 720x360 with 2 Axes>"
      ]
     },
     "metadata": {
      "needs_background": "light"
     },
     "output_type": "display_data"
    }
   ],
   "source": [
    "fig = plt.figure(figsize=(10,5))#전체 그래프 사이즈\n",
    "ax1 = fig.add_subplot(1,2,1)# 사이즈 분할 (행,열,위치 번호)\n",
    "ax2 = fig.add_subplot(1,2,2)\n",
    "sns.regplot(x='weight',y='mpg',data=ndf,ax=ax1)\n",
    "sns.regplot(x='weight',y='mpg',data=ndf,ax=ax2,fit_reg=False) #회귀선 미표시\n",
    "plt.show()\n",
    "plt.close()"
   ]
  },
  {
   "cell_type": "code",
   "execution_count": 30,
   "metadata": {},
   "outputs": [
    {
     "data": {
      "image/png": "[encoded data removed]",
      "text/plain": [
       "<Figure size 432x432 with 3 Axes>"
      ]
     },
     "metadata": {
      "needs_background": "light"
     },
     "output_type": "display_data"
    },
    {
     "data": {
      "image/png": "[encoded data removed]",
      "text/plain": [
       "<Figure size 432x432 with 3 Axes>"
      ]
     },
     "metadata": {
      "needs_background": "light"
     },
     "output_type": "display_data"
    }
   ],
   "source": [
    "sns.jointplot(x='weight',y='mpg',data=ndf)\n",
    "sns.jointplot(x='weight',y='mpg',data=ndf,kind='reg')\n",
    "plt.show()\n",
    "plt.close()"
   ]
  },
  {
   "cell_type": "code",
   "execution_count": 31,
   "metadata": {},
   "outputs": [
    {
     "data": {
      "image/png": "[encoded data removed]",
      "text/plain": [
       "<Figure size 720x720 with 20 Axes>"
      ]
     },
     "metadata": {
      "needs_background": "light"
     },
     "output_type": "display_data"
    }
   ],
   "source": [
    "grid_ndf = sns.pairplot(ndf)\n",
    "plt.show()\n",
    "plt.close()"
   ]
  },
  {
   "cell_type": "markdown",
   "metadata": {},
   "source": [
    "### 그래프 해석\n",
    "- 산점도로 확인 결과 ‘horsepower’와 ‘weight’ 의 독립변수가 종속변수인 ‘mpg’와\n",
    "선형관계를 보임을 알 수 있음\n"
   ]
  },
  {
   "cell_type": "markdown",
   "metadata": {},
   "source": [
    "- 두 변수간의 회귀방정식을 구함"
   ]
  },
  {
   "cell_type": "markdown",
   "metadata": {},
   "source": [
    "### 5-1. 기계 학습 : 데이터 분리\n",
    "- 훈련데이터와 검증데이터로 나누어 모형을 구축\n",
    "- 첫 번째 모형은 mpg 와 weight 를 사용, 훈련과 검증을 7:3 으로 나눔"
   ]
  },
  {
   "cell_type": "markdown",
   "metadata": {},
   "source": [
    "# 기계 학습 \n",
    "## sklearn 패키지\n",
    "- 훈련과 검증데이터로 나눔  \n",
    "    from sklearn.model_selection import train_test_split"
   ]
  },
  {
   "cell_type": "code",
   "execution_count": 37,
   "metadata": {},
   "outputs": [
    {
     "name": "stdout",
     "output_type": "stream",
     "text": [
      "train data num: 274, test data num: 118\n"
     ]
    }
   ],
   "source": [
    "X = ndf[['weight']]\n",
    "y = ndf['mpg']\n",
    "\n",
    "from sklearn.model_selection import train_test_split\n",
    "X_train,X_test,y_train,y_test = train_test_split(X,y,test_size=0.3,random_state=10)\n",
    "print(f'train data num: {len(X_train)}, test data num: {len(X_test)}')"
   ]
  },
  {
   "cell_type": "markdown",
   "metadata": {},
   "source": [
    "### 5-2. 기계 학습 : LineareRegression() 모델 적용\n",
    "- sklearen 의 LineareRegression 을 사용"
   ]
  },
  {
   "cell_type": "code",
   "execution_count": 38,
   "metadata": {},
   "outputs": [
    {
     "name": "stdout",
     "output_type": "stream",
     "text": [
      "0.6822458558299325\n",
      "기울기 a: [-0.00775343]\n",
      "y절편 b: 46.710366257280086\n"
     ]
    }
   ],
   "source": [
    "from sklearn.linear_model import LinearRegression\n",
    "Lr = LinearRegression()\n",
    "Lr.fit(X_train,y_train)#모형 학습\n",
    "r_square = Lr.score(X_test,y_test)#test data를 적용하여 결정계수 계산\n",
    "\n",
    "print(r_square)# 1에 가까울수록 좋음 : 예측값에 가까운 것 \n",
    "print(f'기울기 a: {Lr.coef_}')\n",
    "print(f'y절편 b: {Lr.intercept_}')"
   ]
  },
  {
   "cell_type": "markdown",
   "metadata": {},
   "source": [
    "### 6. 결과 비교\n",
    "- 학습된 모형이 예측한 결과와 실제 값을 비교\n",
    "- 독립 변수 전체 데이터를 predict 메소드에 입력 후 모형이 반환하는 예측값을 y_hat에\n",
    "저장, 실제 y와 y_hat을 그림으로 그려서 비교"
   ]
  },
  {
   "cell_type": "code",
   "execution_count": 39,
   "metadata": {},
   "outputs": [
    {
     "data": {
      "image/png": "[encoded data removed]",
      "text/plain": [
       "<Figure size 720x360 with 1 Axes>"
      ]
     },
     "metadata": {
      "needs_background": "light"
     },
     "output_type": "display_data"
    }
   ],
   "source": [
    "y_hat = Lr.predict(X)\n",
    "plt.figure(figsize=(10,5))\n",
    "ax1 = sns.distplot(y,hist=False,label='y')#hist=False 는 히스토그램을 생성하지 않음\n",
    "ax2 = sns.distplot(y_hat,hist=False,label='y_hat',ax=ax1)\n",
    "plt.show()\n",
    "plt.close()"
   ]
  },
  {
   "cell_type": "markdown",
   "metadata": {},
   "source": [
    "#### 그래프 해석\n",
    "- 그래프의 상태를 보면 실제값과 예측값 사이에 오차가 크게 발생\n",
    "- 이런 경우는 선형보다 곡선의 비선형 회귀분석을 통한 모형이 적합할 수 있음을\n",
    "    알 수 있음\n"
   ]
  },
  {
   "cell_type": "markdown",
   "metadata": {},
   "source": [
    "## (참고) matplotlib에서 한글 폰트 사용법\n",
    "- 자신의 개발환경에 설치된 포트를 확인 후"
   ]
  },
  {
   "cell_type": "code",
   "execution_count": 44,
   "metadata": {},
   "outputs": [],
   "source": [
    "import matplotlib as mpl\n",
    "set(sorted([f.name for f in mpl.font_manager.fontManager.ttflist]))"
   ]
  },
  {
   "cell_type": "markdown",
   "metadata": {},
   "source": [
    "- 한글 폰트 설정 뒤, 축에 적용"
   ]
  },
  {
   "cell_type": "code",
   "execution_count": null,
   "metadata": {},
   "outputs": [],
   "source": [
    "mpl.rc('font', family='NanumGothicOTF') # 자신의 OS에 존재하는 한글 폰트를 선택\n",
    "\n",
    "#참고로 한글 폰트 사용 시 유니코드가 – 기호로 설정되는 폰트 깨짐 해결의 코드는\n",
    "mpl.rcParams['axes.unicode_minus'] = False"
   ]
  },
  {
   "cell_type": "markdown",
   "metadata": {},
   "source": [
    "## 단순 회귀분석 예제2 교재 p.140\n",
    "### - 프로야구선수의 다음 해 연봉 예측"
   ]
  },
  {
   "cell_type": "code",
   "execution_count": 48,
   "metadata": {},
   "outputs": [
    {
     "data": {
      "text/plain": [
       "Index(['선수명', '팀명', '승', '패', '세', '홀드', '블론', '경기', '선발', '이닝', '삼진/9',\n",
       "       '볼넷/9', '홈런/9', 'BABIP', 'LOB%', 'ERA', 'RA9-WAR', 'FIP', 'kFIP', 'WAR',\n",
       "       '연봉(2018)', '연봉(2017)'],\n",
       "      dtype='object')"
      ]
     },
     "execution_count": 48,
     "metadata": {},
     "output_type": "execute_result"
    }
   ],
   "source": [
    "picher_file_path = '../Downloads/picher_stats_2017.csv'\n",
    "picher = pd.read_csv(picher_file_path)\n",
    "picher.columns"
   ]
  },
  {
   "cell_type": "code",
   "execution_count": 46,
   "metadata": {},
   "outputs": [
    {
     "data": {
      "text/html": [
       "<div>\n",
       "<style scoped>\n",
       "    .dataframe tbody tr th:only-of-type {\n",
       "        vertical-align: middle;\n",
       "    }\n",
       "\n",
       "    .dataframe tbody tr th {\n",
       "        vertical-align: top;\n",
       "    }\n",
       "\n",
       "    .dataframe thead th {\n",
       "        text-align: right;\n",
       "    }\n",
       "</style>\n",
       "<table border=\"1\" class=\"dataframe\">\n",
       "  <thead>\n",
       "    <tr style=\"text-align: right;\">\n",
       "      <th></th>\n",
       "      <th>선수명</th>\n",
       "      <th>팀명</th>\n",
       "      <th>승</th>\n",
       "      <th>패</th>\n",
       "      <th>...</th>\n",
       "      <th>kFIP</th>\n",
       "      <th>WAR</th>\n",
       "      <th>연봉(2018)</th>\n",
       "      <th>연봉(2017)</th>\n",
       "    </tr>\n",
       "  </thead>\n",
       "  <tbody>\n",
       "    <tr>\n",
       "      <th>0</th>\n",
       "      <td>켈리</td>\n",
       "      <td>SK</td>\n",
       "      <td>16</td>\n",
       "      <td>7</td>\n",
       "      <td>...</td>\n",
       "      <td>3.44</td>\n",
       "      <td>6.62</td>\n",
       "      <td>140000</td>\n",
       "      <td>85000</td>\n",
       "    </tr>\n",
       "    <tr>\n",
       "      <th>1</th>\n",
       "      <td>소사</td>\n",
       "      <td>LG</td>\n",
       "      <td>11</td>\n",
       "      <td>11</td>\n",
       "      <td>...</td>\n",
       "      <td>3.41</td>\n",
       "      <td>6.08</td>\n",
       "      <td>120000</td>\n",
       "      <td>50000</td>\n",
       "    </tr>\n",
       "    <tr>\n",
       "      <th>2</th>\n",
       "      <td>양현종</td>\n",
       "      <td>KIA</td>\n",
       "      <td>20</td>\n",
       "      <td>6</td>\n",
       "      <td>...</td>\n",
       "      <td>3.82</td>\n",
       "      <td>5.64</td>\n",
       "      <td>230000</td>\n",
       "      <td>150000</td>\n",
       "    </tr>\n",
       "    <tr>\n",
       "      <th>3</th>\n",
       "      <td>차우찬</td>\n",
       "      <td>LG</td>\n",
       "      <td>10</td>\n",
       "      <td>7</td>\n",
       "      <td>...</td>\n",
       "      <td>4.03</td>\n",
       "      <td>4.63</td>\n",
       "      <td>100000</td>\n",
       "      <td>100000</td>\n",
       "    </tr>\n",
       "    <tr>\n",
       "      <th>4</th>\n",
       "      <td>레일리</td>\n",
       "      <td>롯데</td>\n",
       "      <td>13</td>\n",
       "      <td>7</td>\n",
       "      <td>...</td>\n",
       "      <td>4.31</td>\n",
       "      <td>4.38</td>\n",
       "      <td>111000</td>\n",
       "      <td>85000</td>\n",
       "    </tr>\n",
       "  </tbody>\n",
       "</table>\n",
       "<p>5 rows × 22 columns</p>\n",
       "</div>"
      ],
      "text/plain": [
       "   선수명   팀명   승   패  ...  kFIP   WAR  연봉(2018)  연봉(2017)\n",
       "0   켈리   SK  16   7  ...  3.44  6.62    140000     85000\n",
       "1   소사   LG  11  11  ...  3.41  6.08    120000     50000\n",
       "2  양현종  KIA  20   6  ...  3.82  5.64    230000    150000\n",
       "3  차우찬   LG  10   7  ...  4.03  4.63    100000    100000\n",
       "4  레일리   롯데  13   7  ...  4.31  4.38    111000     85000\n",
       "\n",
       "[5 rows x 22 columns]"
      ]
     },
     "execution_count": 46,
     "metadata": {},
     "output_type": "execute_result"
    }
   ],
   "source": [
    "picher.head()"
   ]
  },
  {
   "cell_type": "code",
   "execution_count": 52,
   "metadata": {},
   "outputs": [
    {
     "data": {
      "text/plain": [
       "(152, 22)"
      ]
     },
     "execution_count": 52,
     "metadata": {},
     "output_type": "execute_result"
    }
   ],
   "source": [
    "picher.shape"
   ]
  },
  {
   "cell_type": "code",
   "execution_count": 50,
   "metadata": {},
   "outputs": [
    {
     "data": {
      "text/plain": [
       "Index(['선수명', '팀명', '경기', '타석', '타수', '안타', '홈런', '득점', '타점', '볼넷', '삼진', '도루',\n",
       "       'BABIP', '타율', '출루율', '장타율', 'OPS', 'wOBA', 'WAR', '연봉(2018)',\n",
       "       '연봉(2017)'],\n",
       "      dtype='object')"
      ]
     },
     "execution_count": 50,
     "metadata": {},
     "output_type": "execute_result"
    }
   ],
   "source": [
    "batter_file_path = '../Downloads/batter_stats_2017.csv'\n",
    "batter = pd.read_csv(batter_file_path)\n",
    "batter.columns"
   ]
  },
  {
   "cell_type": "code",
   "execution_count": 51,
   "metadata": {},
   "outputs": [
    {
     "data": {
      "text/html": [
       "<div>\n",
       "<style scoped>\n",
       "    .dataframe tbody tr th:only-of-type {\n",
       "        vertical-align: middle;\n",
       "    }\n",
       "\n",
       "    .dataframe tbody tr th {\n",
       "        vertical-align: top;\n",
       "    }\n",
       "\n",
       "    .dataframe thead th {\n",
       "        text-align: right;\n",
       "    }\n",
       "</style>\n",
       "<table border=\"1\" class=\"dataframe\">\n",
       "  <thead>\n",
       "    <tr style=\"text-align: right;\">\n",
       "      <th></th>\n",
       "      <th>선수명</th>\n",
       "      <th>팀명</th>\n",
       "      <th>경기</th>\n",
       "      <th>타석</th>\n",
       "      <th>...</th>\n",
       "      <th>wOBA</th>\n",
       "      <th>WAR</th>\n",
       "      <th>연봉(2018)</th>\n",
       "      <th>연봉(2017)</th>\n",
       "    </tr>\n",
       "  </thead>\n",
       "  <tbody>\n",
       "    <tr>\n",
       "      <th>0</th>\n",
       "      <td>최정</td>\n",
       "      <td>SK</td>\n",
       "      <td>130</td>\n",
       "      <td>527</td>\n",
       "      <td>...</td>\n",
       "      <td>0.442</td>\n",
       "      <td>7.30</td>\n",
       "      <td>120000</td>\n",
       "      <td>120000</td>\n",
       "    </tr>\n",
       "    <tr>\n",
       "      <th>1</th>\n",
       "      <td>최형우</td>\n",
       "      <td>KIA</td>\n",
       "      <td>142</td>\n",
       "      <td>629</td>\n",
       "      <td>...</td>\n",
       "      <td>0.430</td>\n",
       "      <td>7.20</td>\n",
       "      <td>150000</td>\n",
       "      <td>150000</td>\n",
       "    </tr>\n",
       "    <tr>\n",
       "      <th>2</th>\n",
       "      <td>박건우</td>\n",
       "      <td>두산</td>\n",
       "      <td>131</td>\n",
       "      <td>543</td>\n",
       "      <td>...</td>\n",
       "      <td>0.424</td>\n",
       "      <td>7.04</td>\n",
       "      <td>37000</td>\n",
       "      <td>19500</td>\n",
       "    </tr>\n",
       "    <tr>\n",
       "      <th>3</th>\n",
       "      <td>나성범</td>\n",
       "      <td>NC</td>\n",
       "      <td>125</td>\n",
       "      <td>561</td>\n",
       "      <td>...</td>\n",
       "      <td>0.416</td>\n",
       "      <td>5.64</td>\n",
       "      <td>43000</td>\n",
       "      <td>35000</td>\n",
       "    </tr>\n",
       "    <tr>\n",
       "      <th>4</th>\n",
       "      <td>손아섭</td>\n",
       "      <td>롯데</td>\n",
       "      <td>144</td>\n",
       "      <td>667</td>\n",
       "      <td>...</td>\n",
       "      <td>0.398</td>\n",
       "      <td>5.60</td>\n",
       "      <td>150000</td>\n",
       "      <td>65000</td>\n",
       "    </tr>\n",
       "  </tbody>\n",
       "</table>\n",
       "<p>5 rows × 21 columns</p>\n",
       "</div>"
      ],
      "text/plain": [
       "   선수명   팀명   경기   타석  ...   wOBA   WAR  연봉(2018)  연봉(2017)\n",
       "0   최정   SK  130  527  ...  0.442  7.30    120000    120000\n",
       "1  최형우  KIA  142  629  ...  0.430  7.20    150000    150000\n",
       "2  박건우   두산  131  543  ...  0.424  7.04     37000     19500\n",
       "3  나성범   NC  125  561  ...  0.416  5.64     43000     35000\n",
       "4  손아섭   롯데  144  667  ...  0.398  5.60    150000     65000\n",
       "\n",
       "[5 rows x 21 columns]"
      ]
     },
     "execution_count": 51,
     "metadata": {},
     "output_type": "execute_result"
    }
   ],
   "source": [
    "batter.head()"
   ]
  },
  {
   "cell_type": "code",
   "execution_count": 53,
   "metadata": {},
   "outputs": [
    {
     "data": {
      "text/plain": [
       "count       152.000000\n",
       "mean      18932.236842\n",
       "std       30940.732924\n",
       "min        2700.000000\n",
       "25%        4000.000000\n",
       "50%        7550.000000\n",
       "75%       18500.000000\n",
       "max      230000.000000\n",
       "Name: 연봉(2018), dtype: float64"
      ]
     },
     "execution_count": 53,
     "metadata": {},
     "output_type": "execute_result"
    }
   ],
   "source": [
    "picher['연봉(2018)'].describe()"
   ]
  },
  {
   "cell_type": "code",
   "execution_count": 54,
   "metadata": {},
   "outputs": [
    {
     "data": {
      "text/plain": [
       "<matplotlib.axes._subplots.AxesSubplot at 0x1b9866be5c8>"
      ]
     },
     "execution_count": 54,
     "metadata": {},
     "output_type": "execute_result"
    },
    {
     "data": {
      "image/png": "[encoded data removed]",
      "text/plain": [
       "<Figure size 432x288 with 1 Axes>"
      ]
     },
     "metadata": {
      "needs_background": "light"
     },
     "output_type": "display_data"
    }
   ],
   "source": [
    "picher['연봉(2018)'].hist(bins=100)"
   ]
  },
  {
   "cell_type": "code",
   "execution_count": null,
   "metadata": {},
   "outputs": [],
   "source": [
    "picher_features_df=picher[['승', '패', '세', '홀드', '블론', '경기', '선발', '이닝', '삼진/9',\n",
    "       '볼넷/9', '홈런/9', 'BABIP', 'LOB%', 'ERA', 'RA9-WAR', 'FIP', 'kFIP', 'WAR',\n",
    "       '연봉(2018)', '연봉(2017)']]\n",
    "# def plot_hist_each_column(df):\n",
    "#     plt.rcParams"
   ]
  },
  {
   "cell_type": "code",
   "execution_count": null,
   "metadata": {},
   "outputs": [],
   "source": []
  },
  {
   "cell_type": "code",
   "execution_count": null,
   "metadata": {},
   "outputs": [],
   "source": []
  },
  {
   "cell_type": "code",
   "execution_count": null,
   "metadata": {},
   "outputs": [],
   "source": []
  },
  {
   "cell_type": "code",
   "execution_count": null,
   "metadata": {},
   "outputs": [],
   "source": []
  },
  {
   "cell_type": "code",
   "execution_count": null,
   "metadata": {},
   "outputs": [],
   "source": []
  }
 ],
 "metadata": {
  "kernelspec": {
   "display_name": "Python 3",
   "language": "python",
   "name": "python3"
  },
  "language_info": {
   "codemirror_mode": {
    "name": "ipython",
    "version": 3
   },
   "file_extension": ".py",
   "mimetype": "text/x-python",
   "name": "python",
   "nbconvert_exporter": "python",
   "pygments_lexer": "ipython3",
   "version": "3.7.7"
  }
 },
 "nbformat": 4,
 "nbformat_minor": 4
}
